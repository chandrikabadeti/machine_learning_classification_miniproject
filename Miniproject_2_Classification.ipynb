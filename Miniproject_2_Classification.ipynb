{
  "nbformat": 4,
  "nbformat_minor": 0,
  "metadata": {
    "colab": {
      "provenance": []
    },
    "kernelspec": {
      "name": "python3",
      "display_name": "Python 3"
    },
    "language_info": {
      "name": "python"
    }
  },
  "cells": [
    {
      "cell_type": "markdown",
      "source": [
        "# **TITLE:HOUSE GRADE PREDICTION**"
      ],
      "metadata": {
        "id": "cuMC3yjucfBU"
      }
    },
    {
      "cell_type": "code",
      "execution_count": null,
      "metadata": {
        "colab": {
          "base_uri": "https://localhost:8080/"
        },
        "id": "Lms4_nrCbu1a",
        "outputId": "6af0affa-76ae-40ab-f2ab-e4dc726a7a07"
      },
      "outputs": [
        {
          "output_type": "stream",
          "name": "stdout",
          "text": [
            "Drive already mounted at /content/drive; to attempt to forcibly remount, call drive.mount(\"/content/drive\", force_remount=True).\n"
          ]
        }
      ],
      "source": [
        "from google.colab import drive\n",
        "drive.mount('/content/drive')"
      ]
    },
    {
      "cell_type": "markdown",
      "source": [
        "# Import required libraries"
      ],
      "metadata": {
        "id": "eGZScnFMc3DJ"
      }
    },
    {
      "cell_type": "code",
      "source": [
        "# general imports\n",
        "import pandas as pd\n",
        "import numpy as np\n",
        "import matplotlib.pyplot as plt\n",
        "import seaborn as sns\n",
        "import math\n",
        "\n",
        "\n",
        "#preprocessing\n",
        "from sklearn.preprocessing import LabelEncoder\n",
        "from sklearn.preprocessing import minmax_scale,StandardScaler\n",
        "from sklearn.model_selection import train_test_split\n",
        "\n",
        "\n",
        "# evaluation imports\n",
        "\n",
        "from sklearn.model_selection import GridSearchCV\n",
        "from sklearn.neighbors import KNeighborsClassifier\n",
        "from sklearn.linear_model import LogisticRegression\n",
        "from sklearn.naive_bayes import GaussianNB\n",
        "from sklearn.tree import DecisionTreeClassifier \n",
        "from sklearn.ensemble import RandomForestClassifier\n",
        "from sklearn.svm import SVC\n",
        "from sklearn.model_selection import KFold\n",
        "from sklearn.model_selection import cross_val_score\n",
        "from sklearn import metrics, tree\n",
        "%matplotlib inline\n",
        "\n",
        "#For warnings\n",
        "import warnings\n",
        "warnings.simplefilter(action='ignore')"
      ],
      "metadata": {
        "id": "0rKsL_rcc7zn"
      },
      "execution_count": null,
      "outputs": []
    },
    {
      "cell_type": "markdown",
      "source": [
        "# **Loading the Data**"
      ],
      "metadata": {
        "id": "qyTnMUQzesBd"
      }
    },
    {
      "cell_type": "code",
      "source": [
        "#Read the Data \n",
        "house_data=pd.read_csv('/content/drive/MyDrive/ML/Data/Project2_Classification_HouseGrade_Data_Project.csv')\n",
        "house_data.head(2)"
      ],
      "metadata": {
        "colab": {
          "base_uri": "https://localhost:8080/",
          "height": 112
        },
        "id": "TOwJjjbyez0I",
        "outputId": "502bf691-1a92-482b-aee7-11e9e2d9007b"
      },
      "execution_count": null,
      "outputs": [
        {
          "output_type": "execute_result",
          "data": {
            "text/plain": [
              "   Id  Area(total)  Trooms  Nbedrooms  Nbwashrooms  Twashrooms roof  \\\n",
              "0   1          339       6          5            4           6   NO   \n",
              "1   2          358       5          4            3           4  YES   \n",
              "\n",
              "   Roof(Area)  Lawn(Area)  Nfloors  API  ANB  Expected price Grade  \n",
              "0           0          76        2   79    6            3481     D  \n",
              "1          71          96        3   72    4            3510     D  "
            ],
            "text/html": [
              "\n",
              "  <div id=\"df-7c93a61e-0ecf-4d22-bf8b-081aa8881174\">\n",
              "    <div class=\"colab-df-container\">\n",
              "      <div>\n",
              "<style scoped>\n",
              "    .dataframe tbody tr th:only-of-type {\n",
              "        vertical-align: middle;\n",
              "    }\n",
              "\n",
              "    .dataframe tbody tr th {\n",
              "        vertical-align: top;\n",
              "    }\n",
              "\n",
              "    .dataframe thead th {\n",
              "        text-align: right;\n",
              "    }\n",
              "</style>\n",
              "<table border=\"1\" class=\"dataframe\">\n",
              "  <thead>\n",
              "    <tr style=\"text-align: right;\">\n",
              "      <th></th>\n",
              "      <th>Id</th>\n",
              "      <th>Area(total)</th>\n",
              "      <th>Trooms</th>\n",
              "      <th>Nbedrooms</th>\n",
              "      <th>Nbwashrooms</th>\n",
              "      <th>Twashrooms</th>\n",
              "      <th>roof</th>\n",
              "      <th>Roof(Area)</th>\n",
              "      <th>Lawn(Area)</th>\n",
              "      <th>Nfloors</th>\n",
              "      <th>API</th>\n",
              "      <th>ANB</th>\n",
              "      <th>Expected price</th>\n",
              "      <th>Grade</th>\n",
              "    </tr>\n",
              "  </thead>\n",
              "  <tbody>\n",
              "    <tr>\n",
              "      <th>0</th>\n",
              "      <td>1</td>\n",
              "      <td>339</td>\n",
              "      <td>6</td>\n",
              "      <td>5</td>\n",
              "      <td>4</td>\n",
              "      <td>6</td>\n",
              "      <td>NO</td>\n",
              "      <td>0</td>\n",
              "      <td>76</td>\n",
              "      <td>2</td>\n",
              "      <td>79</td>\n",
              "      <td>6</td>\n",
              "      <td>3481</td>\n",
              "      <td>D</td>\n",
              "    </tr>\n",
              "    <tr>\n",
              "      <th>1</th>\n",
              "      <td>2</td>\n",
              "      <td>358</td>\n",
              "      <td>5</td>\n",
              "      <td>4</td>\n",
              "      <td>3</td>\n",
              "      <td>4</td>\n",
              "      <td>YES</td>\n",
              "      <td>71</td>\n",
              "      <td>96</td>\n",
              "      <td>3</td>\n",
              "      <td>72</td>\n",
              "      <td>4</td>\n",
              "      <td>3510</td>\n",
              "      <td>D</td>\n",
              "    </tr>\n",
              "  </tbody>\n",
              "</table>\n",
              "</div>\n",
              "      <button class=\"colab-df-convert\" onclick=\"convertToInteractive('df-7c93a61e-0ecf-4d22-bf8b-081aa8881174')\"\n",
              "              title=\"Convert this dataframe to an interactive table.\"\n",
              "              style=\"display:none;\">\n",
              "        \n",
              "  <svg xmlns=\"http://www.w3.org/2000/svg\" height=\"24px\"viewBox=\"0 0 24 24\"\n",
              "       width=\"24px\">\n",
              "    <path d=\"M0 0h24v24H0V0z\" fill=\"none\"/>\n",
              "    <path d=\"M18.56 5.44l.94 2.06.94-2.06 2.06-.94-2.06-.94-.94-2.06-.94 2.06-2.06.94zm-11 1L8.5 8.5l.94-2.06 2.06-.94-2.06-.94L8.5 2.5l-.94 2.06-2.06.94zm10 10l.94 2.06.94-2.06 2.06-.94-2.06-.94-.94-2.06-.94 2.06-2.06.94z\"/><path d=\"M17.41 7.96l-1.37-1.37c-.4-.4-.92-.59-1.43-.59-.52 0-1.04.2-1.43.59L10.3 9.45l-7.72 7.72c-.78.78-.78 2.05 0 2.83L4 21.41c.39.39.9.59 1.41.59.51 0 1.02-.2 1.41-.59l7.78-7.78 2.81-2.81c.8-.78.8-2.07 0-2.86zM5.41 20L4 18.59l7.72-7.72 1.47 1.35L5.41 20z\"/>\n",
              "  </svg>\n",
              "      </button>\n",
              "      \n",
              "  <style>\n",
              "    .colab-df-container {\n",
              "      display:flex;\n",
              "      flex-wrap:wrap;\n",
              "      gap: 12px;\n",
              "    }\n",
              "\n",
              "    .colab-df-convert {\n",
              "      background-color: #E8F0FE;\n",
              "      border: none;\n",
              "      border-radius: 50%;\n",
              "      cursor: pointer;\n",
              "      display: none;\n",
              "      fill: #1967D2;\n",
              "      height: 32px;\n",
              "      padding: 0 0 0 0;\n",
              "      width: 32px;\n",
              "    }\n",
              "\n",
              "    .colab-df-convert:hover {\n",
              "      background-color: #E2EBFA;\n",
              "      box-shadow: 0px 1px 2px rgba(60, 64, 67, 0.3), 0px 1px 3px 1px rgba(60, 64, 67, 0.15);\n",
              "      fill: #174EA6;\n",
              "    }\n",
              "\n",
              "    [theme=dark] .colab-df-convert {\n",
              "      background-color: #3B4455;\n",
              "      fill: #D2E3FC;\n",
              "    }\n",
              "\n",
              "    [theme=dark] .colab-df-convert:hover {\n",
              "      background-color: #434B5C;\n",
              "      box-shadow: 0px 1px 3px 1px rgba(0, 0, 0, 0.15);\n",
              "      filter: drop-shadow(0px 1px 2px rgba(0, 0, 0, 0.3));\n",
              "      fill: #FFFFFF;\n",
              "    }\n",
              "  </style>\n",
              "\n",
              "      <script>\n",
              "        const buttonEl =\n",
              "          document.querySelector('#df-7c93a61e-0ecf-4d22-bf8b-081aa8881174 button.colab-df-convert');\n",
              "        buttonEl.style.display =\n",
              "          google.colab.kernel.accessAllowed ? 'block' : 'none';\n",
              "\n",
              "        async function convertToInteractive(key) {\n",
              "          const element = document.querySelector('#df-7c93a61e-0ecf-4d22-bf8b-081aa8881174');\n",
              "          const dataTable =\n",
              "            await google.colab.kernel.invokeFunction('convertToInteractive',\n",
              "                                                     [key], {});\n",
              "          if (!dataTable) return;\n",
              "\n",
              "          const docLinkHtml = 'Like what you see? Visit the ' +\n",
              "            '<a target=\"_blank\" href=https://colab.research.google.com/notebooks/data_table.ipynb>data table notebook</a>'\n",
              "            + ' to learn more about interactive tables.';\n",
              "          element.innerHTML = '';\n",
              "          dataTable['output_type'] = 'display_data';\n",
              "          await google.colab.output.renderOutput(dataTable, element);\n",
              "          const docLink = document.createElement('div');\n",
              "          docLink.innerHTML = docLinkHtml;\n",
              "          element.appendChild(docLink);\n",
              "        }\n",
              "      </script>\n",
              "    </div>\n",
              "  </div>\n",
              "  "
            ]
          },
          "metadata": {},
          "execution_count": 148
        }
      ]
    },
    {
      "cell_type": "markdown",
      "source": [
        "# **Overview of Dataset**"
      ],
      "metadata": {
        "id": "b6cwhiGZfVJH"
      }
    },
    {
      "cell_type": "code",
      "source": [
        "#Structure of dataset\n",
        "print('Dimensions: {} Rows and {} Columns '.format(house_data.shape[0], house_data.shape[1]))"
      ],
      "metadata": {
        "colab": {
          "base_uri": "https://localhost:8080/"
        },
        "id": "MWwrCfnxfW8a",
        "outputId": "462eb310-73a1-45ba-ea77-f5682e0c5bed"
      },
      "execution_count": null,
      "outputs": [
        {
          "output_type": "stream",
          "name": "stdout",
          "text": [
            "Dimensions: 3000 Rows and 14 Columns \n"
          ]
        }
      ]
    },
    {
      "cell_type": "code",
      "source": [
        "#datainfo\n",
        "house_data.info()"
      ],
      "metadata": {
        "colab": {
          "base_uri": "https://localhost:8080/"
        },
        "id": "OvYWIPrCf-o0",
        "outputId": "31cda667-2071-4901-bd26-e79d7b83c129"
      },
      "execution_count": null,
      "outputs": [
        {
          "output_type": "stream",
          "name": "stdout",
          "text": [
            "<class 'pandas.core.frame.DataFrame'>\n",
            "RangeIndex: 3000 entries, 0 to 2999\n",
            "Data columns (total 14 columns):\n",
            " #   Column          Non-Null Count  Dtype \n",
            "---  ------          --------------  ----- \n",
            " 0   Id              3000 non-null   int64 \n",
            " 1   Area(total)     3000 non-null   int64 \n",
            " 2   Trooms          3000 non-null   int64 \n",
            " 3   Nbedrooms       3000 non-null   int64 \n",
            " 4   Nbwashrooms     3000 non-null   int64 \n",
            " 5   Twashrooms      3000 non-null   int64 \n",
            " 6   roof            3000 non-null   object\n",
            " 7   Roof(Area)      3000 non-null   int64 \n",
            " 8   Lawn(Area)      3000 non-null   int64 \n",
            " 9   Nfloors         3000 non-null   int64 \n",
            " 10  API             3000 non-null   int64 \n",
            " 11  ANB             3000 non-null   int64 \n",
            " 12  Expected price  3000 non-null   int64 \n",
            " 13  Grade           3000 non-null   object\n",
            "dtypes: int64(12), object(2)\n",
            "memory usage: 328.2+ KB\n"
          ]
        }
      ]
    },
    {
      "cell_type": "code",
      "source": [
        "# Description of dataset\n",
        "house_data.describe().T"
      ],
      "metadata": {
        "colab": {
          "base_uri": "https://localhost:8080/",
          "height": 425
        },
        "id": "a_zezYB6gOLc",
        "outputId": "1d59ed98-6386-43ba-f711-791bdb2d457d"
      },
      "execution_count": null,
      "outputs": [
        {
          "output_type": "execute_result",
          "data": {
            "text/plain": [
              "                 count         mean         std     min      25%     50%  \\\n",
              "Id              3000.0  1500.500000  866.169729     1.0   750.75  1500.5   \n",
              "Area(total)     3000.0   325.117000   20.507742   290.0   308.00   325.0   \n",
              "Trooms          3000.0     7.021667    1.421221     5.0     6.00     7.0   \n",
              "Nbedrooms       3000.0     5.023000    1.634838     2.0     4.00     5.0   \n",
              "Nbwashrooms     3000.0     4.513667    1.715263     1.0     3.00     4.0   \n",
              "Twashrooms      3000.0     6.010667    1.786136     2.0     5.00     6.0   \n",
              "Roof(Area)      3000.0    48.980667   48.746641     0.0     0.00    71.0   \n",
              "Lawn(Area)      3000.0    95.609333   14.837388    70.0    83.00    96.0   \n",
              "Nfloors         3000.0     4.013333    1.621532     1.0     3.00     4.0   \n",
              "API             3000.0    70.190667   17.563460    40.0    55.00    70.0   \n",
              "ANB             3000.0     3.479000    1.694260     1.0     2.00     4.0   \n",
              "Expected price  3000.0  3782.938333  567.189995  2504.0  3354.00  3771.0   \n",
              "\n",
              "                    75%     max  \n",
              "Id              2250.25  3000.0  \n",
              "Area(total)      343.00   360.0  \n",
              "Trooms             8.00     9.0  \n",
              "Nbedrooms          6.00     8.0  \n",
              "Nbwashrooms        6.00     8.0  \n",
              "Twashrooms         7.00    10.0  \n",
              "Roof(Area)        96.00   120.0  \n",
              "Lawn(Area)       109.00   120.0  \n",
              "Nfloors            5.00     7.0  \n",
              "API               85.00   100.0  \n",
              "ANB                5.00     6.0  \n",
              "Expected price  4208.00  5216.0  "
            ],
            "text/html": [
              "\n",
              "  <div id=\"df-65ab2b4d-7d09-4305-a68d-6e575716eace\">\n",
              "    <div class=\"colab-df-container\">\n",
              "      <div>\n",
              "<style scoped>\n",
              "    .dataframe tbody tr th:only-of-type {\n",
              "        vertical-align: middle;\n",
              "    }\n",
              "\n",
              "    .dataframe tbody tr th {\n",
              "        vertical-align: top;\n",
              "    }\n",
              "\n",
              "    .dataframe thead th {\n",
              "        text-align: right;\n",
              "    }\n",
              "</style>\n",
              "<table border=\"1\" class=\"dataframe\">\n",
              "  <thead>\n",
              "    <tr style=\"text-align: right;\">\n",
              "      <th></th>\n",
              "      <th>count</th>\n",
              "      <th>mean</th>\n",
              "      <th>std</th>\n",
              "      <th>min</th>\n",
              "      <th>25%</th>\n",
              "      <th>50%</th>\n",
              "      <th>75%</th>\n",
              "      <th>max</th>\n",
              "    </tr>\n",
              "  </thead>\n",
              "  <tbody>\n",
              "    <tr>\n",
              "      <th>Id</th>\n",
              "      <td>3000.0</td>\n",
              "      <td>1500.500000</td>\n",
              "      <td>866.169729</td>\n",
              "      <td>1.0</td>\n",
              "      <td>750.75</td>\n",
              "      <td>1500.5</td>\n",
              "      <td>2250.25</td>\n",
              "      <td>3000.0</td>\n",
              "    </tr>\n",
              "    <tr>\n",
              "      <th>Area(total)</th>\n",
              "      <td>3000.0</td>\n",
              "      <td>325.117000</td>\n",
              "      <td>20.507742</td>\n",
              "      <td>290.0</td>\n",
              "      <td>308.00</td>\n",
              "      <td>325.0</td>\n",
              "      <td>343.00</td>\n",
              "      <td>360.0</td>\n",
              "    </tr>\n",
              "    <tr>\n",
              "      <th>Trooms</th>\n",
              "      <td>3000.0</td>\n",
              "      <td>7.021667</td>\n",
              "      <td>1.421221</td>\n",
              "      <td>5.0</td>\n",
              "      <td>6.00</td>\n",
              "      <td>7.0</td>\n",
              "      <td>8.00</td>\n",
              "      <td>9.0</td>\n",
              "    </tr>\n",
              "    <tr>\n",
              "      <th>Nbedrooms</th>\n",
              "      <td>3000.0</td>\n",
              "      <td>5.023000</td>\n",
              "      <td>1.634838</td>\n",
              "      <td>2.0</td>\n",
              "      <td>4.00</td>\n",
              "      <td>5.0</td>\n",
              "      <td>6.00</td>\n",
              "      <td>8.0</td>\n",
              "    </tr>\n",
              "    <tr>\n",
              "      <th>Nbwashrooms</th>\n",
              "      <td>3000.0</td>\n",
              "      <td>4.513667</td>\n",
              "      <td>1.715263</td>\n",
              "      <td>1.0</td>\n",
              "      <td>3.00</td>\n",
              "      <td>4.0</td>\n",
              "      <td>6.00</td>\n",
              "      <td>8.0</td>\n",
              "    </tr>\n",
              "    <tr>\n",
              "      <th>Twashrooms</th>\n",
              "      <td>3000.0</td>\n",
              "      <td>6.010667</td>\n",
              "      <td>1.786136</td>\n",
              "      <td>2.0</td>\n",
              "      <td>5.00</td>\n",
              "      <td>6.0</td>\n",
              "      <td>7.00</td>\n",
              "      <td>10.0</td>\n",
              "    </tr>\n",
              "    <tr>\n",
              "      <th>Roof(Area)</th>\n",
              "      <td>3000.0</td>\n",
              "      <td>48.980667</td>\n",
              "      <td>48.746641</td>\n",
              "      <td>0.0</td>\n",
              "      <td>0.00</td>\n",
              "      <td>71.0</td>\n",
              "      <td>96.00</td>\n",
              "      <td>120.0</td>\n",
              "    </tr>\n",
              "    <tr>\n",
              "      <th>Lawn(Area)</th>\n",
              "      <td>3000.0</td>\n",
              "      <td>95.609333</td>\n",
              "      <td>14.837388</td>\n",
              "      <td>70.0</td>\n",
              "      <td>83.00</td>\n",
              "      <td>96.0</td>\n",
              "      <td>109.00</td>\n",
              "      <td>120.0</td>\n",
              "    </tr>\n",
              "    <tr>\n",
              "      <th>Nfloors</th>\n",
              "      <td>3000.0</td>\n",
              "      <td>4.013333</td>\n",
              "      <td>1.621532</td>\n",
              "      <td>1.0</td>\n",
              "      <td>3.00</td>\n",
              "      <td>4.0</td>\n",
              "      <td>5.00</td>\n",
              "      <td>7.0</td>\n",
              "    </tr>\n",
              "    <tr>\n",
              "      <th>API</th>\n",
              "      <td>3000.0</td>\n",
              "      <td>70.190667</td>\n",
              "      <td>17.563460</td>\n",
              "      <td>40.0</td>\n",
              "      <td>55.00</td>\n",
              "      <td>70.0</td>\n",
              "      <td>85.00</td>\n",
              "      <td>100.0</td>\n",
              "    </tr>\n",
              "    <tr>\n",
              "      <th>ANB</th>\n",
              "      <td>3000.0</td>\n",
              "      <td>3.479000</td>\n",
              "      <td>1.694260</td>\n",
              "      <td>1.0</td>\n",
              "      <td>2.00</td>\n",
              "      <td>4.0</td>\n",
              "      <td>5.00</td>\n",
              "      <td>6.0</td>\n",
              "    </tr>\n",
              "    <tr>\n",
              "      <th>Expected price</th>\n",
              "      <td>3000.0</td>\n",
              "      <td>3782.938333</td>\n",
              "      <td>567.189995</td>\n",
              "      <td>2504.0</td>\n",
              "      <td>3354.00</td>\n",
              "      <td>3771.0</td>\n",
              "      <td>4208.00</td>\n",
              "      <td>5216.0</td>\n",
              "    </tr>\n",
              "  </tbody>\n",
              "</table>\n",
              "</div>\n",
              "      <button class=\"colab-df-convert\" onclick=\"convertToInteractive('df-65ab2b4d-7d09-4305-a68d-6e575716eace')\"\n",
              "              title=\"Convert this dataframe to an interactive table.\"\n",
              "              style=\"display:none;\">\n",
              "        \n",
              "  <svg xmlns=\"http://www.w3.org/2000/svg\" height=\"24px\"viewBox=\"0 0 24 24\"\n",
              "       width=\"24px\">\n",
              "    <path d=\"M0 0h24v24H0V0z\" fill=\"none\"/>\n",
              "    <path d=\"M18.56 5.44l.94 2.06.94-2.06 2.06-.94-2.06-.94-.94-2.06-.94 2.06-2.06.94zm-11 1L8.5 8.5l.94-2.06 2.06-.94-2.06-.94L8.5 2.5l-.94 2.06-2.06.94zm10 10l.94 2.06.94-2.06 2.06-.94-2.06-.94-.94-2.06-.94 2.06-2.06.94z\"/><path d=\"M17.41 7.96l-1.37-1.37c-.4-.4-.92-.59-1.43-.59-.52 0-1.04.2-1.43.59L10.3 9.45l-7.72 7.72c-.78.78-.78 2.05 0 2.83L4 21.41c.39.39.9.59 1.41.59.51 0 1.02-.2 1.41-.59l7.78-7.78 2.81-2.81c.8-.78.8-2.07 0-2.86zM5.41 20L4 18.59l7.72-7.72 1.47 1.35L5.41 20z\"/>\n",
              "  </svg>\n",
              "      </button>\n",
              "      \n",
              "  <style>\n",
              "    .colab-df-container {\n",
              "      display:flex;\n",
              "      flex-wrap:wrap;\n",
              "      gap: 12px;\n",
              "    }\n",
              "\n",
              "    .colab-df-convert {\n",
              "      background-color: #E8F0FE;\n",
              "      border: none;\n",
              "      border-radius: 50%;\n",
              "      cursor: pointer;\n",
              "      display: none;\n",
              "      fill: #1967D2;\n",
              "      height: 32px;\n",
              "      padding: 0 0 0 0;\n",
              "      width: 32px;\n",
              "    }\n",
              "\n",
              "    .colab-df-convert:hover {\n",
              "      background-color: #E2EBFA;\n",
              "      box-shadow: 0px 1px 2px rgba(60, 64, 67, 0.3), 0px 1px 3px 1px rgba(60, 64, 67, 0.15);\n",
              "      fill: #174EA6;\n",
              "    }\n",
              "\n",
              "    [theme=dark] .colab-df-convert {\n",
              "      background-color: #3B4455;\n",
              "      fill: #D2E3FC;\n",
              "    }\n",
              "\n",
              "    [theme=dark] .colab-df-convert:hover {\n",
              "      background-color: #434B5C;\n",
              "      box-shadow: 0px 1px 3px 1px rgba(0, 0, 0, 0.15);\n",
              "      filter: drop-shadow(0px 1px 2px rgba(0, 0, 0, 0.3));\n",
              "      fill: #FFFFFF;\n",
              "    }\n",
              "  </style>\n",
              "\n",
              "      <script>\n",
              "        const buttonEl =\n",
              "          document.querySelector('#df-65ab2b4d-7d09-4305-a68d-6e575716eace button.colab-df-convert');\n",
              "        buttonEl.style.display =\n",
              "          google.colab.kernel.accessAllowed ? 'block' : 'none';\n",
              "\n",
              "        async function convertToInteractive(key) {\n",
              "          const element = document.querySelector('#df-65ab2b4d-7d09-4305-a68d-6e575716eace');\n",
              "          const dataTable =\n",
              "            await google.colab.kernel.invokeFunction('convertToInteractive',\n",
              "                                                     [key], {});\n",
              "          if (!dataTable) return;\n",
              "\n",
              "          const docLinkHtml = 'Like what you see? Visit the ' +\n",
              "            '<a target=\"_blank\" href=https://colab.research.google.com/notebooks/data_table.ipynb>data table notebook</a>'\n",
              "            + ' to learn more about interactive tables.';\n",
              "          element.innerHTML = '';\n",
              "          dataTable['output_type'] = 'display_data';\n",
              "          await google.colab.output.renderOutput(dataTable, element);\n",
              "          const docLink = document.createElement('div');\n",
              "          docLink.innerHTML = docLinkHtml;\n",
              "          element.appendChild(docLink);\n",
              "        }\n",
              "      </script>\n",
              "    </div>\n",
              "  </div>\n",
              "  "
            ]
          },
          "metadata": {},
          "execution_count": 151
        }
      ]
    },
    {
      "cell_type": "markdown",
      "source": [
        "**Observations:**\n",
        " * The mean values are in different scale so, we have to scale the data."
      ],
      "metadata": {
        "id": "wAp9lwFhgUoU"
      }
    },
    {
      "cell_type": "code",
      "source": [
        "#Finding for categoty columns\n",
        "house_data.describe(include='object')"
      ],
      "metadata": {
        "colab": {
          "base_uri": "https://localhost:8080/",
          "height": 174
        },
        "id": "GfbPuyOJgpdZ",
        "outputId": "761b9c52-5add-4069-e876-61a076695199"
      },
      "execution_count": null,
      "outputs": [
        {
          "output_type": "execute_result",
          "data": {
            "text/plain": [
              "        roof Grade\n",
              "count   3000  3000\n",
              "unique     2     5\n",
              "top      YES     D\n",
              "freq    1543  1270"
            ],
            "text/html": [
              "\n",
              "  <div id=\"df-b9f0cbd7-a5d7-438e-9419-7f09337ce0ee\">\n",
              "    <div class=\"colab-df-container\">\n",
              "      <div>\n",
              "<style scoped>\n",
              "    .dataframe tbody tr th:only-of-type {\n",
              "        vertical-align: middle;\n",
              "    }\n",
              "\n",
              "    .dataframe tbody tr th {\n",
              "        vertical-align: top;\n",
              "    }\n",
              "\n",
              "    .dataframe thead th {\n",
              "        text-align: right;\n",
              "    }\n",
              "</style>\n",
              "<table border=\"1\" class=\"dataframe\">\n",
              "  <thead>\n",
              "    <tr style=\"text-align: right;\">\n",
              "      <th></th>\n",
              "      <th>roof</th>\n",
              "      <th>Grade</th>\n",
              "    </tr>\n",
              "  </thead>\n",
              "  <tbody>\n",
              "    <tr>\n",
              "      <th>count</th>\n",
              "      <td>3000</td>\n",
              "      <td>3000</td>\n",
              "    </tr>\n",
              "    <tr>\n",
              "      <th>unique</th>\n",
              "      <td>2</td>\n",
              "      <td>5</td>\n",
              "    </tr>\n",
              "    <tr>\n",
              "      <th>top</th>\n",
              "      <td>YES</td>\n",
              "      <td>D</td>\n",
              "    </tr>\n",
              "    <tr>\n",
              "      <th>freq</th>\n",
              "      <td>1543</td>\n",
              "      <td>1270</td>\n",
              "    </tr>\n",
              "  </tbody>\n",
              "</table>\n",
              "</div>\n",
              "      <button class=\"colab-df-convert\" onclick=\"convertToInteractive('df-b9f0cbd7-a5d7-438e-9419-7f09337ce0ee')\"\n",
              "              title=\"Convert this dataframe to an interactive table.\"\n",
              "              style=\"display:none;\">\n",
              "        \n",
              "  <svg xmlns=\"http://www.w3.org/2000/svg\" height=\"24px\"viewBox=\"0 0 24 24\"\n",
              "       width=\"24px\">\n",
              "    <path d=\"M0 0h24v24H0V0z\" fill=\"none\"/>\n",
              "    <path d=\"M18.56 5.44l.94 2.06.94-2.06 2.06-.94-2.06-.94-.94-2.06-.94 2.06-2.06.94zm-11 1L8.5 8.5l.94-2.06 2.06-.94-2.06-.94L8.5 2.5l-.94 2.06-2.06.94zm10 10l.94 2.06.94-2.06 2.06-.94-2.06-.94-.94-2.06-.94 2.06-2.06.94z\"/><path d=\"M17.41 7.96l-1.37-1.37c-.4-.4-.92-.59-1.43-.59-.52 0-1.04.2-1.43.59L10.3 9.45l-7.72 7.72c-.78.78-.78 2.05 0 2.83L4 21.41c.39.39.9.59 1.41.59.51 0 1.02-.2 1.41-.59l7.78-7.78 2.81-2.81c.8-.78.8-2.07 0-2.86zM5.41 20L4 18.59l7.72-7.72 1.47 1.35L5.41 20z\"/>\n",
              "  </svg>\n",
              "      </button>\n",
              "      \n",
              "  <style>\n",
              "    .colab-df-container {\n",
              "      display:flex;\n",
              "      flex-wrap:wrap;\n",
              "      gap: 12px;\n",
              "    }\n",
              "\n",
              "    .colab-df-convert {\n",
              "      background-color: #E8F0FE;\n",
              "      border: none;\n",
              "      border-radius: 50%;\n",
              "      cursor: pointer;\n",
              "      display: none;\n",
              "      fill: #1967D2;\n",
              "      height: 32px;\n",
              "      padding: 0 0 0 0;\n",
              "      width: 32px;\n",
              "    }\n",
              "\n",
              "    .colab-df-convert:hover {\n",
              "      background-color: #E2EBFA;\n",
              "      box-shadow: 0px 1px 2px rgba(60, 64, 67, 0.3), 0px 1px 3px 1px rgba(60, 64, 67, 0.15);\n",
              "      fill: #174EA6;\n",
              "    }\n",
              "\n",
              "    [theme=dark] .colab-df-convert {\n",
              "      background-color: #3B4455;\n",
              "      fill: #D2E3FC;\n",
              "    }\n",
              "\n",
              "    [theme=dark] .colab-df-convert:hover {\n",
              "      background-color: #434B5C;\n",
              "      box-shadow: 0px 1px 3px 1px rgba(0, 0, 0, 0.15);\n",
              "      filter: drop-shadow(0px 1px 2px rgba(0, 0, 0, 0.3));\n",
              "      fill: #FFFFFF;\n",
              "    }\n",
              "  </style>\n",
              "\n",
              "      <script>\n",
              "        const buttonEl =\n",
              "          document.querySelector('#df-b9f0cbd7-a5d7-438e-9419-7f09337ce0ee button.colab-df-convert');\n",
              "        buttonEl.style.display =\n",
              "          google.colab.kernel.accessAllowed ? 'block' : 'none';\n",
              "\n",
              "        async function convertToInteractive(key) {\n",
              "          const element = document.querySelector('#df-b9f0cbd7-a5d7-438e-9419-7f09337ce0ee');\n",
              "          const dataTable =\n",
              "            await google.colab.kernel.invokeFunction('convertToInteractive',\n",
              "                                                     [key], {});\n",
              "          if (!dataTable) return;\n",
              "\n",
              "          const docLinkHtml = 'Like what you see? Visit the ' +\n",
              "            '<a target=\"_blank\" href=https://colab.research.google.com/notebooks/data_table.ipynb>data table notebook</a>'\n",
              "            + ' to learn more about interactive tables.';\n",
              "          element.innerHTML = '';\n",
              "          dataTable['output_type'] = 'display_data';\n",
              "          await google.colab.output.renderOutput(dataTable, element);\n",
              "          const docLink = document.createElement('div');\n",
              "          docLink.innerHTML = docLinkHtml;\n",
              "          element.appendChild(docLink);\n",
              "        }\n",
              "      </script>\n",
              "    </div>\n",
              "  </div>\n",
              "  "
            ]
          },
          "metadata": {},
          "execution_count": 152
        }
      ]
    },
    {
      "cell_type": "code",
      "source": [
        "#Finding the missing values\n",
        "house_data.isnull().sum()"
      ],
      "metadata": {
        "colab": {
          "base_uri": "https://localhost:8080/"
        },
        "id": "-4CPL7q_g2r3",
        "outputId": "1b1a764c-3981-4529-9c43-33e4d7391ef4"
      },
      "execution_count": null,
      "outputs": [
        {
          "output_type": "execute_result",
          "data": {
            "text/plain": [
              "Id                0\n",
              "Area(total)       0\n",
              "Trooms            0\n",
              "Nbedrooms         0\n",
              "Nbwashrooms       0\n",
              "Twashrooms        0\n",
              "roof              0\n",
              "Roof(Area)        0\n",
              "Lawn(Area)        0\n",
              "Nfloors           0\n",
              "API               0\n",
              "ANB               0\n",
              "Expected price    0\n",
              "Grade             0\n",
              "dtype: int64"
            ]
          },
          "metadata": {},
          "execution_count": 153
        }
      ]
    },
    {
      "cell_type": "code",
      "source": [
        "house_data"
      ],
      "metadata": {
        "colab": {
          "base_uri": "https://localhost:8080/",
          "height": 423
        },
        "id": "2G_ybEA-pBOz",
        "outputId": "2e9c4f59-08a7-4429-ddd8-7700ced3fcae"
      },
      "execution_count": null,
      "outputs": [
        {
          "output_type": "execute_result",
          "data": {
            "text/plain": [
              "        Id  Area(total)  Trooms  Nbedrooms  Nbwashrooms  Twashrooms roof  \\\n",
              "0        1          339       6          5            4           6   NO   \n",
              "1        2          358       5          4            3           4  YES   \n",
              "2        3          324       7          5            4           5  YES   \n",
              "3        4          330       6          4            3           5  YES   \n",
              "4        5          320       7          4            4           5   NO   \n",
              "...    ...          ...     ...        ...          ...         ...  ...   \n",
              "2995  2996          341       9          6            5           7  YES   \n",
              "2996  2997          292       9          8            7           8  YES   \n",
              "2997  2998          328       7          4            3           5   NO   \n",
              "2998  2999          293       9          7            7           8   NO   \n",
              "2999  3000          343       7          6            6           8   NO   \n",
              "\n",
              "      Roof(Area)  Lawn(Area)  Nfloors  API  ANB  Expected price Grade  \n",
              "0              0          76        2   79    6            3481     D  \n",
              "1             71          96        3   72    4            3510     D  \n",
              "2            101         117        5   64    3            3748     C  \n",
              "3            101          82        2   59    2            3134     D  \n",
              "4              0          75        3   40    1            3843     D  \n",
              "...          ...         ...      ...  ...  ...             ...   ...  \n",
              "2995          95         115        5   90    2            4246     B  \n",
              "2996         116          87        7   97    4            3753     A  \n",
              "2997           0          78        5   95    6            3607     D  \n",
              "2998           0          78        7   51    3            4198     B  \n",
              "2999           0         108        5   95    3            4105     C  \n",
              "\n",
              "[3000 rows x 14 columns]"
            ],
            "text/html": [
              "\n",
              "  <div id=\"df-48ebe669-294f-410b-a94c-156c6d3c1f54\">\n",
              "    <div class=\"colab-df-container\">\n",
              "      <div>\n",
              "<style scoped>\n",
              "    .dataframe tbody tr th:only-of-type {\n",
              "        vertical-align: middle;\n",
              "    }\n",
              "\n",
              "    .dataframe tbody tr th {\n",
              "        vertical-align: top;\n",
              "    }\n",
              "\n",
              "    .dataframe thead th {\n",
              "        text-align: right;\n",
              "    }\n",
              "</style>\n",
              "<table border=\"1\" class=\"dataframe\">\n",
              "  <thead>\n",
              "    <tr style=\"text-align: right;\">\n",
              "      <th></th>\n",
              "      <th>Id</th>\n",
              "      <th>Area(total)</th>\n",
              "      <th>Trooms</th>\n",
              "      <th>Nbedrooms</th>\n",
              "      <th>Nbwashrooms</th>\n",
              "      <th>Twashrooms</th>\n",
              "      <th>roof</th>\n",
              "      <th>Roof(Area)</th>\n",
              "      <th>Lawn(Area)</th>\n",
              "      <th>Nfloors</th>\n",
              "      <th>API</th>\n",
              "      <th>ANB</th>\n",
              "      <th>Expected price</th>\n",
              "      <th>Grade</th>\n",
              "    </tr>\n",
              "  </thead>\n",
              "  <tbody>\n",
              "    <tr>\n",
              "      <th>0</th>\n",
              "      <td>1</td>\n",
              "      <td>339</td>\n",
              "      <td>6</td>\n",
              "      <td>5</td>\n",
              "      <td>4</td>\n",
              "      <td>6</td>\n",
              "      <td>NO</td>\n",
              "      <td>0</td>\n",
              "      <td>76</td>\n",
              "      <td>2</td>\n",
              "      <td>79</td>\n",
              "      <td>6</td>\n",
              "      <td>3481</td>\n",
              "      <td>D</td>\n",
              "    </tr>\n",
              "    <tr>\n",
              "      <th>1</th>\n",
              "      <td>2</td>\n",
              "      <td>358</td>\n",
              "      <td>5</td>\n",
              "      <td>4</td>\n",
              "      <td>3</td>\n",
              "      <td>4</td>\n",
              "      <td>YES</td>\n",
              "      <td>71</td>\n",
              "      <td>96</td>\n",
              "      <td>3</td>\n",
              "      <td>72</td>\n",
              "      <td>4</td>\n",
              "      <td>3510</td>\n",
              "      <td>D</td>\n",
              "    </tr>\n",
              "    <tr>\n",
              "      <th>2</th>\n",
              "      <td>3</td>\n",
              "      <td>324</td>\n",
              "      <td>7</td>\n",
              "      <td>5</td>\n",
              "      <td>4</td>\n",
              "      <td>5</td>\n",
              "      <td>YES</td>\n",
              "      <td>101</td>\n",
              "      <td>117</td>\n",
              "      <td>5</td>\n",
              "      <td>64</td>\n",
              "      <td>3</td>\n",
              "      <td>3748</td>\n",
              "      <td>C</td>\n",
              "    </tr>\n",
              "    <tr>\n",
              "      <th>3</th>\n",
              "      <td>4</td>\n",
              "      <td>330</td>\n",
              "      <td>6</td>\n",
              "      <td>4</td>\n",
              "      <td>3</td>\n",
              "      <td>5</td>\n",
              "      <td>YES</td>\n",
              "      <td>101</td>\n",
              "      <td>82</td>\n",
              "      <td>2</td>\n",
              "      <td>59</td>\n",
              "      <td>2</td>\n",
              "      <td>3134</td>\n",
              "      <td>D</td>\n",
              "    </tr>\n",
              "    <tr>\n",
              "      <th>4</th>\n",
              "      <td>5</td>\n",
              "      <td>320</td>\n",
              "      <td>7</td>\n",
              "      <td>4</td>\n",
              "      <td>4</td>\n",
              "      <td>5</td>\n",
              "      <td>NO</td>\n",
              "      <td>0</td>\n",
              "      <td>75</td>\n",
              "      <td>3</td>\n",
              "      <td>40</td>\n",
              "      <td>1</td>\n",
              "      <td>3843</td>\n",
              "      <td>D</td>\n",
              "    </tr>\n",
              "    <tr>\n",
              "      <th>...</th>\n",
              "      <td>...</td>\n",
              "      <td>...</td>\n",
              "      <td>...</td>\n",
              "      <td>...</td>\n",
              "      <td>...</td>\n",
              "      <td>...</td>\n",
              "      <td>...</td>\n",
              "      <td>...</td>\n",
              "      <td>...</td>\n",
              "      <td>...</td>\n",
              "      <td>...</td>\n",
              "      <td>...</td>\n",
              "      <td>...</td>\n",
              "      <td>...</td>\n",
              "    </tr>\n",
              "    <tr>\n",
              "      <th>2995</th>\n",
              "      <td>2996</td>\n",
              "      <td>341</td>\n",
              "      <td>9</td>\n",
              "      <td>6</td>\n",
              "      <td>5</td>\n",
              "      <td>7</td>\n",
              "      <td>YES</td>\n",
              "      <td>95</td>\n",
              "      <td>115</td>\n",
              "      <td>5</td>\n",
              "      <td>90</td>\n",
              "      <td>2</td>\n",
              "      <td>4246</td>\n",
              "      <td>B</td>\n",
              "    </tr>\n",
              "    <tr>\n",
              "      <th>2996</th>\n",
              "      <td>2997</td>\n",
              "      <td>292</td>\n",
              "      <td>9</td>\n",
              "      <td>8</td>\n",
              "      <td>7</td>\n",
              "      <td>8</td>\n",
              "      <td>YES</td>\n",
              "      <td>116</td>\n",
              "      <td>87</td>\n",
              "      <td>7</td>\n",
              "      <td>97</td>\n",
              "      <td>4</td>\n",
              "      <td>3753</td>\n",
              "      <td>A</td>\n",
              "    </tr>\n",
              "    <tr>\n",
              "      <th>2997</th>\n",
              "      <td>2998</td>\n",
              "      <td>328</td>\n",
              "      <td>7</td>\n",
              "      <td>4</td>\n",
              "      <td>3</td>\n",
              "      <td>5</td>\n",
              "      <td>NO</td>\n",
              "      <td>0</td>\n",
              "      <td>78</td>\n",
              "      <td>5</td>\n",
              "      <td>95</td>\n",
              "      <td>6</td>\n",
              "      <td>3607</td>\n",
              "      <td>D</td>\n",
              "    </tr>\n",
              "    <tr>\n",
              "      <th>2998</th>\n",
              "      <td>2999</td>\n",
              "      <td>293</td>\n",
              "      <td>9</td>\n",
              "      <td>7</td>\n",
              "      <td>7</td>\n",
              "      <td>8</td>\n",
              "      <td>NO</td>\n",
              "      <td>0</td>\n",
              "      <td>78</td>\n",
              "      <td>7</td>\n",
              "      <td>51</td>\n",
              "      <td>3</td>\n",
              "      <td>4198</td>\n",
              "      <td>B</td>\n",
              "    </tr>\n",
              "    <tr>\n",
              "      <th>2999</th>\n",
              "      <td>3000</td>\n",
              "      <td>343</td>\n",
              "      <td>7</td>\n",
              "      <td>6</td>\n",
              "      <td>6</td>\n",
              "      <td>8</td>\n",
              "      <td>NO</td>\n",
              "      <td>0</td>\n",
              "      <td>108</td>\n",
              "      <td>5</td>\n",
              "      <td>95</td>\n",
              "      <td>3</td>\n",
              "      <td>4105</td>\n",
              "      <td>C</td>\n",
              "    </tr>\n",
              "  </tbody>\n",
              "</table>\n",
              "<p>3000 rows × 14 columns</p>\n",
              "</div>\n",
              "      <button class=\"colab-df-convert\" onclick=\"convertToInteractive('df-48ebe669-294f-410b-a94c-156c6d3c1f54')\"\n",
              "              title=\"Convert this dataframe to an interactive table.\"\n",
              "              style=\"display:none;\">\n",
              "        \n",
              "  <svg xmlns=\"http://www.w3.org/2000/svg\" height=\"24px\"viewBox=\"0 0 24 24\"\n",
              "       width=\"24px\">\n",
              "    <path d=\"M0 0h24v24H0V0z\" fill=\"none\"/>\n",
              "    <path d=\"M18.56 5.44l.94 2.06.94-2.06 2.06-.94-2.06-.94-.94-2.06-.94 2.06-2.06.94zm-11 1L8.5 8.5l.94-2.06 2.06-.94-2.06-.94L8.5 2.5l-.94 2.06-2.06.94zm10 10l.94 2.06.94-2.06 2.06-.94-2.06-.94-.94-2.06-.94 2.06-2.06.94z\"/><path d=\"M17.41 7.96l-1.37-1.37c-.4-.4-.92-.59-1.43-.59-.52 0-1.04.2-1.43.59L10.3 9.45l-7.72 7.72c-.78.78-.78 2.05 0 2.83L4 21.41c.39.39.9.59 1.41.59.51 0 1.02-.2 1.41-.59l7.78-7.78 2.81-2.81c.8-.78.8-2.07 0-2.86zM5.41 20L4 18.59l7.72-7.72 1.47 1.35L5.41 20z\"/>\n",
              "  </svg>\n",
              "      </button>\n",
              "      \n",
              "  <style>\n",
              "    .colab-df-container {\n",
              "      display:flex;\n",
              "      flex-wrap:wrap;\n",
              "      gap: 12px;\n",
              "    }\n",
              "\n",
              "    .colab-df-convert {\n",
              "      background-color: #E8F0FE;\n",
              "      border: none;\n",
              "      border-radius: 50%;\n",
              "      cursor: pointer;\n",
              "      display: none;\n",
              "      fill: #1967D2;\n",
              "      height: 32px;\n",
              "      padding: 0 0 0 0;\n",
              "      width: 32px;\n",
              "    }\n",
              "\n",
              "    .colab-df-convert:hover {\n",
              "      background-color: #E2EBFA;\n",
              "      box-shadow: 0px 1px 2px rgba(60, 64, 67, 0.3), 0px 1px 3px 1px rgba(60, 64, 67, 0.15);\n",
              "      fill: #174EA6;\n",
              "    }\n",
              "\n",
              "    [theme=dark] .colab-df-convert {\n",
              "      background-color: #3B4455;\n",
              "      fill: #D2E3FC;\n",
              "    }\n",
              "\n",
              "    [theme=dark] .colab-df-convert:hover {\n",
              "      background-color: #434B5C;\n",
              "      box-shadow: 0px 1px 3px 1px rgba(0, 0, 0, 0.15);\n",
              "      filter: drop-shadow(0px 1px 2px rgba(0, 0, 0, 0.3));\n",
              "      fill: #FFFFFF;\n",
              "    }\n",
              "  </style>\n",
              "\n",
              "      <script>\n",
              "        const buttonEl =\n",
              "          document.querySelector('#df-48ebe669-294f-410b-a94c-156c6d3c1f54 button.colab-df-convert');\n",
              "        buttonEl.style.display =\n",
              "          google.colab.kernel.accessAllowed ? 'block' : 'none';\n",
              "\n",
              "        async function convertToInteractive(key) {\n",
              "          const element = document.querySelector('#df-48ebe669-294f-410b-a94c-156c6d3c1f54');\n",
              "          const dataTable =\n",
              "            await google.colab.kernel.invokeFunction('convertToInteractive',\n",
              "                                                     [key], {});\n",
              "          if (!dataTable) return;\n",
              "\n",
              "          const docLinkHtml = 'Like what you see? Visit the ' +\n",
              "            '<a target=\"_blank\" href=https://colab.research.google.com/notebooks/data_table.ipynb>data table notebook</a>'\n",
              "            + ' to learn more about interactive tables.';\n",
              "          element.innerHTML = '';\n",
              "          dataTable['output_type'] = 'display_data';\n",
              "          await google.colab.output.renderOutput(dataTable, element);\n",
              "          const docLink = document.createElement('div');\n",
              "          docLink.innerHTML = docLinkHtml;\n",
              "          element.appendChild(docLink);\n",
              "        }\n",
              "      </script>\n",
              "    </div>\n",
              "  </div>\n",
              "  "
            ]
          },
          "metadata": {},
          "execution_count": 154
        }
      ]
    },
    {
      "cell_type": "markdown",
      "source": [
        "# **Exploratory Data Analysis**"
      ],
      "metadata": {
        "id": "2wZJuTfAg_yx"
      }
    },
    {
      "cell_type": "code",
      "source": [
        "#  Nbedrooms vs Grade\n",
        "# Finding which item has more sales\n",
        "\n",
        "plt.figure(figsize = (20, 8))\n",
        "sns.barplot(x = 'Nfloors', y = 'Grade', data = house_data)\n",
        "\n",
        "plt.title(\"Nbedrooms vs Grade\")\n",
        "plt.show()"
      ],
      "metadata": {
        "colab": {
          "base_uri": "https://localhost:8080/",
          "height": 513
        },
        "id": "5uR5dRE_igmO",
        "outputId": "11669223-eee5-4dd2-dd24-c28c811821dd"
      },
      "execution_count": null,
      "outputs": [
        {
          "output_type": "display_data",
          "data": {
            "text/plain": [
              "<Figure size 1440x576 with 1 Axes>"
            ],
            "image/png": "[encoded data removed]"
          },
          "metadata": {
            "needs_background": "light"
          }
        }
      ]
    },
    {
      "cell_type": "markdown",
      "source": [
        "**Observations:**\n",
        "* From the visualization we can say that 6Floors with grade A is high."
      ],
      "metadata": {
        "id": "hAspJW5OkSRo"
      }
    },
    {
      "cell_type": "code",
      "source": [
        "house_data.columns"
      ],
      "metadata": {
        "colab": {
          "base_uri": "https://localhost:8080/"
        },
        "id": "tKjHICVGvr5J",
        "outputId": "9bc861fb-09f7-464a-c502-477d4efa5f9d"
      },
      "execution_count": null,
      "outputs": [
        {
          "output_type": "execute_result",
          "data": {
            "text/plain": [
              "Index(['Id', 'Area(total)', 'Trooms', 'Nbedrooms', 'Nbwashrooms', 'Twashrooms',\n",
              "       'roof', 'Roof(Area)', 'Lawn(Area)', 'Nfloors', 'API', 'ANB',\n",
              "       'Expected price', 'Grade'],\n",
              "      dtype='object')"
            ]
          },
          "metadata": {},
          "execution_count": 156
        }
      ]
    },
    {
      "cell_type": "code",
      "source": [
        "pd.crosstab(house_data['Nbedrooms'],house_data['Grade']).plot(kind='bar')\n",
        "plt.show()"
      ],
      "metadata": {
        "colab": {
          "base_uri": "https://localhost:8080/",
          "height": 276
        },
        "id": "abhUIHuSlLpp",
        "outputId": "d9580397-7ea5-43ae-d160-fa532c58583b"
      },
      "execution_count": null,
      "outputs": [
        {
          "output_type": "display_data",
          "data": {
            "text/plain": [
              "<Figure size 432x288 with 1 Axes>"
            ],
            "image/png": "[encoded data removed]"
          },
          "metadata": {
            "needs_background": "light"
          }
        }
      ]
    },
    {
      "cell_type": "markdown",
      "source": [
        "* Grade D with bedrooms4 has high count when compared with other values."
      ],
      "metadata": {
        "id": "R8u3HQAYzsIJ"
      }
    },
    {
      "cell_type": "code",
      "source": [
        "house_data.dtypes"
      ],
      "metadata": {
        "colab": {
          "base_uri": "https://localhost:8080/"
        },
        "id": "mRx5KZPD8eZT",
        "outputId": "d2651e31-09d4-430b-cac0-7f3178525ff9"
      },
      "execution_count": null,
      "outputs": [
        {
          "output_type": "execute_result",
          "data": {
            "text/plain": [
              "Id                 int64\n",
              "Area(total)        int64\n",
              "Trooms             int64\n",
              "Nbedrooms          int64\n",
              "Nbwashrooms        int64\n",
              "Twashrooms         int64\n",
              "roof              object\n",
              "Roof(Area)         int64\n",
              "Lawn(Area)         int64\n",
              "Nfloors            int64\n",
              "API                int64\n",
              "ANB                int64\n",
              "Expected price     int64\n",
              "Grade             object\n",
              "dtype: object"
            ]
          },
          "metadata": {},
          "execution_count": 158
        }
      ]
    },
    {
      "cell_type": "code",
      "source": [
        "#converting non-numeric labeled columns to categorical columns\n",
        "col_cat=list(house_data.select_dtypes('object'))\n",
        "for col in col_cat:\n",
        "  house_data[col]=house_data[col].astype('category')"
      ],
      "metadata": {
        "id": "CgqDWGGgHHnt"
      },
      "execution_count": null,
      "outputs": []
    },
    {
      "cell_type": "code",
      "source": [
        "# importing label encoder\n",
        "from sklearn.preprocessing import LabelEncoder\n",
        "\n",
        "# creating a label encoder\n",
        "le = LabelEncoder()\n",
        "\n",
        "\n",
        "# label encoding for roof\n",
        "house_data['roof'] = le.fit_transform(house_data['roof'])\n",
        "\n",
        "# label encoding for Grade\n",
        "house_data['Grade'] = le.fit_transform(house_data['Grade'])"
      ],
      "metadata": {
        "id": "-d0ViMsV8aAt"
      },
      "execution_count": null,
      "outputs": []
    },
    {
      "cell_type": "code",
      "source": [
        "house_data.dtypes"
      ],
      "metadata": {
        "colab": {
          "base_uri": "https://localhost:8080/"
        },
        "id": "ZvvoJYYcAexy",
        "outputId": "fb36ff10-e44f-42b1-b340-631661b36c0b"
      },
      "execution_count": null,
      "outputs": [
        {
          "output_type": "execute_result",
          "data": {
            "text/plain": [
              "Id                int64\n",
              "Area(total)       int64\n",
              "Trooms            int64\n",
              "Nbedrooms         int64\n",
              "Nbwashrooms       int64\n",
              "Twashrooms        int64\n",
              "roof              int64\n",
              "Roof(Area)        int64\n",
              "Lawn(Area)        int64\n",
              "Nfloors           int64\n",
              "API               int64\n",
              "ANB               int64\n",
              "Expected price    int64\n",
              "Grade             int64\n",
              "dtype: object"
            ]
          },
          "metadata": {},
          "execution_count": 161
        }
      ]
    },
    {
      "cell_type": "code",
      "source": [
        "for i,col in enumerate(house_data.columns):\n",
        "  plt.figure(i)\n",
        "  sns.distplot(house_data[col])\n",
        "# plt.show()"
      ],
      "metadata": {
        "colab": {
          "base_uri": "https://localhost:8080/",
          "height": 1000
        },
        "id": "w7I0CU191eJf",
        "outputId": "56d6daae-8e42-4c4f-bca9-fd2a4060f02d"
      },
      "execution_count": null,
      "outputs": [
        {
          "output_type": "display_data",
          "data": {
            "text/plain": [
              "<Figure size 432x288 with 1 Axes>"
            ],
            "image/png": "[encoded data removed]"
          },
          "metadata": {
            "needs_background": "light"
          }
        },
        {
          "output_type": "display_data",
          "data": {
            "text/plain": [
              "<Figure size 432x288 with 1 Axes>"
            ],
            "image/png": "[encoded data removed]"
          },
          "metadata": {
            "needs_background": "light"
          }
        },
        {
          "output_type": "display_data",
          "data": {
            "text/plain": [
              "<Figure size 432x288 with 1 Axes>"
            ],
            "image/png": "[encoded data removed]"
          },
          "metadata": {
            "needs_background": "light"
          }
        },
        {
          "output_type": "display_data",
          "data": {
            "text/plain": [
              "<Figure size 432x288 with 1 Axes>"
            ],
            "image/png": "[encoded data removed]"
          },
          "metadata": {
            "needs_background": "light"
          }
        },
        {
          "output_type": "display_data",
          "data": {
            "text/plain": [
              "<Figure size 432x288 with 1 Axes>"
            ],
            "image/png": "[encoded data removed]"
          },
          "metadata": {
            "needs_background": "light"
          }
        },
        {
          "output_type": "display_data",
          "data": {
            "text/plain": [
              "<Figure size 432x288 with 1 Axes>"
            ],
            "image/png": "[encoded data removed]"
          },
          "metadata": {
            "needs_background": "light"
          }
        },
        {
          "output_type": "display_data",
          "data": {
            "text/plain": [
              "<Figure size 432x288 with 1 Axes>"
            ],
            "image/png": "[encoded data removed]"
          },
          "metadata": {
            "needs_background": "light"
          }
        },
        {
          "output_type": "display_data",
          "data": {
            "text/plain": [
              "<Figure size 432x288 with 1 Axes>"
            ],
            "image/png": "[encoded data removed]"
          },
          "metadata": {
            "needs_background": "light"
          }
        },
        {
          "output_type": "display_data",
          "data": {
            "text/plain": [
              "<Figure size 432x288 with 1 Axes>"
            ],
            "image/png": "[encoded data removed]"
          },
          "metadata": {
            "needs_background": "light"
          }
        },
        {
          "output_type": "display_data",
          "data": {
            "text/plain": [
              "<Figure size 432x288 with 1 Axes>"
            ],
            "image/png": "[encoded data removed]"
          },
          "metadata": {
            "needs_background": "light"
          }
        },
        {
          "output_type": "display_data",
          "data": {
            "text/plain": [
              "<Figure size 432x288 with 1 Axes>"
            ],
            "image/png": "[encoded data removed]"
          },
          "metadata": {
            "needs_background": "light"
          }
        },
        {
          "output_type": "display_data",
          "data": {
            "text/plain": [
              "<Figure size 432x288 with 1 Axes>"
            ],
            "image/png": "[encoded data removed]"
          },
          "metadata": {
            "needs_background": "light"
          }
        },
        {
          "output_type": "display_data",
          "data": {
            "text/plain": [
              "<Figure size 432x288 with 1 Axes>"
            ],
            "image/png": "[encoded data removed]"
          },
          "metadata": {
            "needs_background": "light"
          }
        },
        {
          "output_type": "display_data",
          "data": {
            "text/plain": [
              "<Figure size 432x288 with 1 Axes>"
            ],
            "image/png": "[encoded data removed]"
          },
          "metadata": {
            "needs_background": "light"
          }
        }
      ]
    },
    {
      "cell_type": "markdown",
      "source": [
        "From the visualizations area,lawn,Expected price are normally distributed."
      ],
      "metadata": {
        "id": "Qv4n9KjTvPL7"
      }
    },
    {
      "cell_type": "markdown",
      "source": [
        "**Features selection**\n",
        "\n",
        "\n",
        "\n"
      ],
      "metadata": {
        "id": "Fte9lL725USA"
      }
    },
    {
      "cell_type": "code",
      "source": [
        "col=['Area(total)', 'Trooms', 'Nbedrooms', 'Nbwashrooms', 'Twashrooms',\n",
        "       'roof', 'Roof(Area)', 'Lawn(Area)', 'Nfloors', 'API', 'ANB',\n",
        "       'Expected price' ]"
      ],
      "metadata": {
        "id": "aB9xjuIYtrDA"
      },
      "execution_count": null,
      "outputs": []
    },
    {
      "cell_type": "code",
      "source": [
        "imp=dc_model.feature_importances_\n",
        "id=np.argsort(imp)\n",
        "plt.barh(range(len(id)),imp[id])\n",
        "plt.yticks(range(len(id)),[col[i] for i in id])\n",
        "plt.show()"
      ],
      "metadata": {
        "colab": {
          "base_uri": "https://localhost:8080/",
          "height": 265
        },
        "id": "t8HHnmLNr5lU",
        "outputId": "7df9346d-bdbe-42b6-9ed9-7f7e579082ad"
      },
      "execution_count": null,
      "outputs": [
        {
          "output_type": "display_data",
          "data": {
            "text/plain": [
              "<Figure size 432x288 with 1 Axes>"
            ],
            "image/png": "[encoded data removed]"
          },
          "metadata": {
            "needs_background": "light"
          }
        }
      ]
    },
    {
      "cell_type": "markdown",
      "source": [
        "# Observations:\n",
        "**Trooms,Area,Nbwashrooms are most important features.**"
      ],
      "metadata": {
        "id": "yDatmsjpt6UO"
      }
    },
    {
      "cell_type": "markdown",
      "source": [
        "# **Scaling the data**"
      ],
      "metadata": {
        "id": "dDfDp58FDkCv"
      }
    },
    {
      "cell_type": "code",
      "source": [
        "house_data.drop(columns='Id',inplace=True)"
      ],
      "metadata": {
        "id": "brBLB-U9ME43"
      },
      "execution_count": null,
      "outputs": []
    },
    {
      "cell_type": "code",
      "source": [
        "house_data1=house_data.drop(columns=['Grade'])"
      ],
      "metadata": {
        "id": "fTR2pm5zLwJr"
      },
      "execution_count": null,
      "outputs": []
    },
    {
      "cell_type": "code",
      "source": [
        "house_data1"
      ],
      "metadata": {
        "colab": {
          "base_uri": "https://localhost:8080/",
          "height": 423
        },
        "id": "WBVzmJIJL_8E",
        "outputId": "eb38bf41-9728-4ffd-e546-8f58e3f189e4"
      },
      "execution_count": null,
      "outputs": [
        {
          "output_type": "execute_result",
          "data": {
            "text/plain": [
              "      Area(total)  Trooms  Nbedrooms  Nbwashrooms  Twashrooms  roof  \\\n",
              "0             339       6          5            4           6     0   \n",
              "1             358       5          4            3           4     1   \n",
              "2             324       7          5            4           5     1   \n",
              "3             330       6          4            3           5     1   \n",
              "4             320       7          4            4           5     0   \n",
              "...           ...     ...        ...          ...         ...   ...   \n",
              "2995          341       9          6            5           7     1   \n",
              "2996          292       9          8            7           8     1   \n",
              "2997          328       7          4            3           5     0   \n",
              "2998          293       9          7            7           8     0   \n",
              "2999          343       7          6            6           8     0   \n",
              "\n",
              "      Roof(Area)  Lawn(Area)  Nfloors  API  ANB  Expected price  \n",
              "0              0          76        2   79    6            3481  \n",
              "1             71          96        3   72    4            3510  \n",
              "2            101         117        5   64    3            3748  \n",
              "3            101          82        2   59    2            3134  \n",
              "4              0          75        3   40    1            3843  \n",
              "...          ...         ...      ...  ...  ...             ...  \n",
              "2995          95         115        5   90    2            4246  \n",
              "2996         116          87        7   97    4            3753  \n",
              "2997           0          78        5   95    6            3607  \n",
              "2998           0          78        7   51    3            4198  \n",
              "2999           0         108        5   95    3            4105  \n",
              "\n",
              "[3000 rows x 12 columns]"
            ],
            "text/html": [
              "\n",
              "  <div id=\"df-9cd7340d-c522-435f-bb57-d073d6d74d68\">\n",
              "    <div class=\"colab-df-container\">\n",
              "      <div>\n",
              "<style scoped>\n",
              "    .dataframe tbody tr th:only-of-type {\n",
              "        vertical-align: middle;\n",
              "    }\n",
              "\n",
              "    .dataframe tbody tr th {\n",
              "        vertical-align: top;\n",
              "    }\n",
              "\n",
              "    .dataframe thead th {\n",
              "        text-align: right;\n",
              "    }\n",
              "</style>\n",
              "<table border=\"1\" class=\"dataframe\">\n",
              "  <thead>\n",
              "    <tr style=\"text-align: right;\">\n",
              "      <th></th>\n",
              "      <th>Area(total)</th>\n",
              "      <th>Trooms</th>\n",
              "      <th>Nbedrooms</th>\n",
              "      <th>Nbwashrooms</th>\n",
              "      <th>Twashrooms</th>\n",
              "      <th>roof</th>\n",
              "      <th>Roof(Area)</th>\n",
              "      <th>Lawn(Area)</th>\n",
              "      <th>Nfloors</th>\n",
              "      <th>API</th>\n",
              "      <th>ANB</th>\n",
              "      <th>Expected price</th>\n",
              "    </tr>\n",
              "  </thead>\n",
              "  <tbody>\n",
              "    <tr>\n",
              "      <th>0</th>\n",
              "      <td>339</td>\n",
              "      <td>6</td>\n",
              "      <td>5</td>\n",
              "      <td>4</td>\n",
              "      <td>6</td>\n",
              "      <td>0</td>\n",
              "      <td>0</td>\n",
              "      <td>76</td>\n",
              "      <td>2</td>\n",
              "      <td>79</td>\n",
              "      <td>6</td>\n",
              "      <td>3481</td>\n",
              "    </tr>\n",
              "    <tr>\n",
              "      <th>1</th>\n",
              "      <td>358</td>\n",
              "      <td>5</td>\n",
              "      <td>4</td>\n",
              "      <td>3</td>\n",
              "      <td>4</td>\n",
              "      <td>1</td>\n",
              "      <td>71</td>\n",
              "      <td>96</td>\n",
              "      <td>3</td>\n",
              "      <td>72</td>\n",
              "      <td>4</td>\n",
              "      <td>3510</td>\n",
              "    </tr>\n",
              "    <tr>\n",
              "      <th>2</th>\n",
              "      <td>324</td>\n",
              "      <td>7</td>\n",
              "      <td>5</td>\n",
              "      <td>4</td>\n",
              "      <td>5</td>\n",
              "      <td>1</td>\n",
              "      <td>101</td>\n",
              "      <td>117</td>\n",
              "      <td>5</td>\n",
              "      <td>64</td>\n",
              "      <td>3</td>\n",
              "      <td>3748</td>\n",
              "    </tr>\n",
              "    <tr>\n",
              "      <th>3</th>\n",
              "      <td>330</td>\n",
              "      <td>6</td>\n",
              "      <td>4</td>\n",
              "      <td>3</td>\n",
              "      <td>5</td>\n",
              "      <td>1</td>\n",
              "      <td>101</td>\n",
              "      <td>82</td>\n",
              "      <td>2</td>\n",
              "      <td>59</td>\n",
              "      <td>2</td>\n",
              "      <td>3134</td>\n",
              "    </tr>\n",
              "    <tr>\n",
              "      <th>4</th>\n",
              "      <td>320</td>\n",
              "      <td>7</td>\n",
              "      <td>4</td>\n",
              "      <td>4</td>\n",
              "      <td>5</td>\n",
              "      <td>0</td>\n",
              "      <td>0</td>\n",
              "      <td>75</td>\n",
              "      <td>3</td>\n",
              "      <td>40</td>\n",
              "      <td>1</td>\n",
              "      <td>3843</td>\n",
              "    </tr>\n",
              "    <tr>\n",
              "      <th>...</th>\n",
              "      <td>...</td>\n",
              "      <td>...</td>\n",
              "      <td>...</td>\n",
              "      <td>...</td>\n",
              "      <td>...</td>\n",
              "      <td>...</td>\n",
              "      <td>...</td>\n",
              "      <td>...</td>\n",
              "      <td>...</td>\n",
              "      <td>...</td>\n",
              "      <td>...</td>\n",
              "      <td>...</td>\n",
              "    </tr>\n",
              "    <tr>\n",
              "      <th>2995</th>\n",
              "      <td>341</td>\n",
              "      <td>9</td>\n",
              "      <td>6</td>\n",
              "      <td>5</td>\n",
              "      <td>7</td>\n",
              "      <td>1</td>\n",
              "      <td>95</td>\n",
              "      <td>115</td>\n",
              "      <td>5</td>\n",
              "      <td>90</td>\n",
              "      <td>2</td>\n",
              "      <td>4246</td>\n",
              "    </tr>\n",
              "    <tr>\n",
              "      <th>2996</th>\n",
              "      <td>292</td>\n",
              "      <td>9</td>\n",
              "      <td>8</td>\n",
              "      <td>7</td>\n",
              "      <td>8</td>\n",
              "      <td>1</td>\n",
              "      <td>116</td>\n",
              "      <td>87</td>\n",
              "      <td>7</td>\n",
              "      <td>97</td>\n",
              "      <td>4</td>\n",
              "      <td>3753</td>\n",
              "    </tr>\n",
              "    <tr>\n",
              "      <th>2997</th>\n",
              "      <td>328</td>\n",
              "      <td>7</td>\n",
              "      <td>4</td>\n",
              "      <td>3</td>\n",
              "      <td>5</td>\n",
              "      <td>0</td>\n",
              "      <td>0</td>\n",
              "      <td>78</td>\n",
              "      <td>5</td>\n",
              "      <td>95</td>\n",
              "      <td>6</td>\n",
              "      <td>3607</td>\n",
              "    </tr>\n",
              "    <tr>\n",
              "      <th>2998</th>\n",
              "      <td>293</td>\n",
              "      <td>9</td>\n",
              "      <td>7</td>\n",
              "      <td>7</td>\n",
              "      <td>8</td>\n",
              "      <td>0</td>\n",
              "      <td>0</td>\n",
              "      <td>78</td>\n",
              "      <td>7</td>\n",
              "      <td>51</td>\n",
              "      <td>3</td>\n",
              "      <td>4198</td>\n",
              "    </tr>\n",
              "    <tr>\n",
              "      <th>2999</th>\n",
              "      <td>343</td>\n",
              "      <td>7</td>\n",
              "      <td>6</td>\n",
              "      <td>6</td>\n",
              "      <td>8</td>\n",
              "      <td>0</td>\n",
              "      <td>0</td>\n",
              "      <td>108</td>\n",
              "      <td>5</td>\n",
              "      <td>95</td>\n",
              "      <td>3</td>\n",
              "      <td>4105</td>\n",
              "    </tr>\n",
              "  </tbody>\n",
              "</table>\n",
              "<p>3000 rows × 12 columns</p>\n",
              "</div>\n",
              "      <button class=\"colab-df-convert\" onclick=\"convertToInteractive('df-9cd7340d-c522-435f-bb57-d073d6d74d68')\"\n",
              "              title=\"Convert this dataframe to an interactive table.\"\n",
              "              style=\"display:none;\">\n",
              "        \n",
              "  <svg xmlns=\"http://www.w3.org/2000/svg\" height=\"24px\"viewBox=\"0 0 24 24\"\n",
              "       width=\"24px\">\n",
              "    <path d=\"M0 0h24v24H0V0z\" fill=\"none\"/>\n",
              "    <path d=\"M18.56 5.44l.94 2.06.94-2.06 2.06-.94-2.06-.94-.94-2.06-.94 2.06-2.06.94zm-11 1L8.5 8.5l.94-2.06 2.06-.94-2.06-.94L8.5 2.5l-.94 2.06-2.06.94zm10 10l.94 2.06.94-2.06 2.06-.94-2.06-.94-.94-2.06-.94 2.06-2.06.94z\"/><path d=\"M17.41 7.96l-1.37-1.37c-.4-.4-.92-.59-1.43-.59-.52 0-1.04.2-1.43.59L10.3 9.45l-7.72 7.72c-.78.78-.78 2.05 0 2.83L4 21.41c.39.39.9.59 1.41.59.51 0 1.02-.2 1.41-.59l7.78-7.78 2.81-2.81c.8-.78.8-2.07 0-2.86zM5.41 20L4 18.59l7.72-7.72 1.47 1.35L5.41 20z\"/>\n",
              "  </svg>\n",
              "      </button>\n",
              "      \n",
              "  <style>\n",
              "    .colab-df-container {\n",
              "      display:flex;\n",
              "      flex-wrap:wrap;\n",
              "      gap: 12px;\n",
              "    }\n",
              "\n",
              "    .colab-df-convert {\n",
              "      background-color: #E8F0FE;\n",
              "      border: none;\n",
              "      border-radius: 50%;\n",
              "      cursor: pointer;\n",
              "      display: none;\n",
              "      fill: #1967D2;\n",
              "      height: 32px;\n",
              "      padding: 0 0 0 0;\n",
              "      width: 32px;\n",
              "    }\n",
              "\n",
              "    .colab-df-convert:hover {\n",
              "      background-color: #E2EBFA;\n",
              "      box-shadow: 0px 1px 2px rgba(60, 64, 67, 0.3), 0px 1px 3px 1px rgba(60, 64, 67, 0.15);\n",
              "      fill: #174EA6;\n",
              "    }\n",
              "\n",
              "    [theme=dark] .colab-df-convert {\n",
              "      background-color: #3B4455;\n",
              "      fill: #D2E3FC;\n",
              "    }\n",
              "\n",
              "    [theme=dark] .colab-df-convert:hover {\n",
              "      background-color: #434B5C;\n",
              "      box-shadow: 0px 1px 3px 1px rgba(0, 0, 0, 0.15);\n",
              "      filter: drop-shadow(0px 1px 2px rgba(0, 0, 0, 0.3));\n",
              "      fill: #FFFFFF;\n",
              "    }\n",
              "  </style>\n",
              "\n",
              "      <script>\n",
              "        const buttonEl =\n",
              "          document.querySelector('#df-9cd7340d-c522-435f-bb57-d073d6d74d68 button.colab-df-convert');\n",
              "        buttonEl.style.display =\n",
              "          google.colab.kernel.accessAllowed ? 'block' : 'none';\n",
              "\n",
              "        async function convertToInteractive(key) {\n",
              "          const element = document.querySelector('#df-9cd7340d-c522-435f-bb57-d073d6d74d68');\n",
              "          const dataTable =\n",
              "            await google.colab.kernel.invokeFunction('convertToInteractive',\n",
              "                                                     [key], {});\n",
              "          if (!dataTable) return;\n",
              "\n",
              "          const docLinkHtml = 'Like what you see? Visit the ' +\n",
              "            '<a target=\"_blank\" href=https://colab.research.google.com/notebooks/data_table.ipynb>data table notebook</a>'\n",
              "            + ' to learn more about interactive tables.';\n",
              "          element.innerHTML = '';\n",
              "          dataTable['output_type'] = 'display_data';\n",
              "          await google.colab.output.renderOutput(dataTable, element);\n",
              "          const docLink = document.createElement('div');\n",
              "          docLink.innerHTML = docLinkHtml;\n",
              "          element.appendChild(docLink);\n",
              "        }\n",
              "      </script>\n",
              "    </div>\n",
              "  </div>\n",
              "  "
            ]
          },
          "metadata": {},
          "execution_count": 167
        }
      ]
    },
    {
      "cell_type": "code",
      "source": [
        "# As the mean values are in different range scaling the data to get them in same range\n",
        "from sklearn.preprocessing import StandardScaler\n",
        "scaler=StandardScaler()\n",
        "df_scaled=scaler.fit_transform(house_data1)"
      ],
      "metadata": {
        "id": "Jx4sTxL7DbuL"
      },
      "execution_count": null,
      "outputs": []
    },
    {
      "cell_type": "code",
      "source": [
        "house_data1.columns"
      ],
      "metadata": {
        "colab": {
          "base_uri": "https://localhost:8080/"
        },
        "id": "0x_EvrJ6EWDQ",
        "outputId": "8c0c83f1-51b8-4522-bef6-3b0b1c6cce30"
      },
      "execution_count": null,
      "outputs": [
        {
          "output_type": "execute_result",
          "data": {
            "text/plain": [
              "Index(['Area(total)', 'Trooms', 'Nbedrooms', 'Nbwashrooms', 'Twashrooms',\n",
              "       'roof', 'Roof(Area)', 'Lawn(Area)', 'Nfloors', 'API', 'ANB',\n",
              "       'Expected price'],\n",
              "      dtype='object')"
            ]
          },
          "metadata": {},
          "execution_count": 169
        }
      ]
    },
    {
      "cell_type": "code",
      "source": [
        "house_data2=pd.DataFrame(df_scaled)\n",
        "house_data2.columns=[ 'Area(total)', 'Trooms', 'Nbedrooms', 'Nbwashrooms', 'Twashrooms',\n",
        "       'roof', 'Roof(Area)', 'Lawn(Area)', 'Nfloors', 'API', 'ANB',\n",
        "       'Expected price' ]"
      ],
      "metadata": {
        "id": "FZuKe8tbDz5m"
      },
      "execution_count": null,
      "outputs": []
    },
    {
      "cell_type": "code",
      "source": [
        "house_data2"
      ],
      "metadata": {
        "colab": {
          "base_uri": "https://localhost:8080/",
          "height": 423
        },
        "id": "3pMgTe4ONSJi",
        "outputId": "dc7d601b-9536-46f1-e056-32e9ca7b062c"
      },
      "execution_count": null,
      "outputs": [
        {
          "output_type": "execute_result",
          "data": {
            "text/plain": [
              "      Area(total)    Trooms  Nbedrooms  Nbwashrooms  Twashrooms      roof  \\\n",
              "0        0.677077 -0.718985  -0.014071    -0.299518   -0.005973 -1.029090   \n",
              "1        1.603710 -1.422722  -0.625854    -0.882616   -1.125895  0.971733   \n",
              "2       -0.054476 -0.015248  -0.014071    -0.299518   -0.565934  0.971733   \n",
              "3        0.238145 -0.718985  -0.625854    -0.882616   -0.565934  0.971733   \n",
              "4       -0.249557 -0.015248  -0.625854    -0.299518   -0.565934 -1.029090   \n",
              "...           ...       ...        ...          ...         ...       ...   \n",
              "2995     0.774617  1.392227   0.597712     0.283580    0.553988  0.971733   \n",
              "2996    -1.615123  1.392227   1.821279     1.449776    1.113949  0.971733   \n",
              "2997     0.140604 -0.015248  -0.625854    -0.882616   -0.565934 -1.029090   \n",
              "2998    -1.566353  1.392227   1.209496     1.449776    1.113949 -1.029090   \n",
              "2999     0.872157 -0.015248   0.597712     0.866678    1.113949 -1.029090   \n",
              "\n",
              "      Roof(Area)  Lawn(Area)   Nfloors       API       ANB  Expected price  \n",
              "0      -1.004968   -1.321837 -1.241831  0.501655  1.488214       -0.532429  \n",
              "1       0.451785    0.026334 -0.625028  0.103034  0.307560       -0.481292  \n",
              "2       1.067315    1.441914  0.608580 -0.352533 -0.282766       -0.061609  \n",
              "3       1.067315   -0.917385 -1.241831 -0.637262 -0.873093       -1.144319  \n",
              "4      -1.004968   -1.389245 -0.625028 -1.719234 -1.463420        0.105911  \n",
              "...          ...         ...       ...       ...       ...             ...  \n",
              "2995    0.944209    1.307097  0.608580  1.128060 -0.873093        0.816550  \n",
              "2996    1.375079   -0.580343  1.842187  1.526681  0.307560       -0.052792  \n",
              "2997   -1.004968   -1.187019  0.608580  1.412789  1.488214       -0.310245  \n",
              "2998   -1.004968   -1.187019  1.842187 -1.092829 -0.282766        0.731908  \n",
              "2999   -1.004968    0.835237  0.608580  1.412789 -0.282766        0.567914  \n",
              "\n",
              "[3000 rows x 12 columns]"
            ],
            "text/html": [
              "\n",
              "  <div id=\"df-4a51eb91-9400-4f0b-8ec6-1dbd88f09e53\">\n",
              "    <div class=\"colab-df-container\">\n",
              "      <div>\n",
              "<style scoped>\n",
              "    .dataframe tbody tr th:only-of-type {\n",
              "        vertical-align: middle;\n",
              "    }\n",
              "\n",
              "    .dataframe tbody tr th {\n",
              "        vertical-align: top;\n",
              "    }\n",
              "\n",
              "    .dataframe thead th {\n",
              "        text-align: right;\n",
              "    }\n",
              "</style>\n",
              "<table border=\"1\" class=\"dataframe\">\n",
              "  <thead>\n",
              "    <tr style=\"text-align: right;\">\n",
              "      <th></th>\n",
              "      <th>Area(total)</th>\n",
              "      <th>Trooms</th>\n",
              "      <th>Nbedrooms</th>\n",
              "      <th>Nbwashrooms</th>\n",
              "      <th>Twashrooms</th>\n",
              "      <th>roof</th>\n",
              "      <th>Roof(Area)</th>\n",
              "      <th>Lawn(Area)</th>\n",
              "      <th>Nfloors</th>\n",
              "      <th>API</th>\n",
              "      <th>ANB</th>\n",
              "      <th>Expected price</th>\n",
              "    </tr>\n",
              "  </thead>\n",
              "  <tbody>\n",
              "    <tr>\n",
              "      <th>0</th>\n",
              "      <td>0.677077</td>\n",
              "      <td>-0.718985</td>\n",
              "      <td>-0.014071</td>\n",
              "      <td>-0.299518</td>\n",
              "      <td>-0.005973</td>\n",
              "      <td>-1.029090</td>\n",
              "      <td>-1.004968</td>\n",
              "      <td>-1.321837</td>\n",
              "      <td>-1.241831</td>\n",
              "      <td>0.501655</td>\n",
              "      <td>1.488214</td>\n",
              "      <td>-0.532429</td>\n",
              "    </tr>\n",
              "    <tr>\n",
              "      <th>1</th>\n",
              "      <td>1.603710</td>\n",
              "      <td>-1.422722</td>\n",
              "      <td>-0.625854</td>\n",
              "      <td>-0.882616</td>\n",
              "      <td>-1.125895</td>\n",
              "      <td>0.971733</td>\n",
              "      <td>0.451785</td>\n",
              "      <td>0.026334</td>\n",
              "      <td>-0.625028</td>\n",
              "      <td>0.103034</td>\n",
              "      <td>0.307560</td>\n",
              "      <td>-0.481292</td>\n",
              "    </tr>\n",
              "    <tr>\n",
              "      <th>2</th>\n",
              "      <td>-0.054476</td>\n",
              "      <td>-0.015248</td>\n",
              "      <td>-0.014071</td>\n",
              "      <td>-0.299518</td>\n",
              "      <td>-0.565934</td>\n",
              "      <td>0.971733</td>\n",
              "      <td>1.067315</td>\n",
              "      <td>1.441914</td>\n",
              "      <td>0.608580</td>\n",
              "      <td>-0.352533</td>\n",
              "      <td>-0.282766</td>\n",
              "      <td>-0.061609</td>\n",
              "    </tr>\n",
              "    <tr>\n",
              "      <th>3</th>\n",
              "      <td>0.238145</td>\n",
              "      <td>-0.718985</td>\n",
              "      <td>-0.625854</td>\n",
              "      <td>-0.882616</td>\n",
              "      <td>-0.565934</td>\n",
              "      <td>0.971733</td>\n",
              "      <td>1.067315</td>\n",
              "      <td>-0.917385</td>\n",
              "      <td>-1.241831</td>\n",
              "      <td>-0.637262</td>\n",
              "      <td>-0.873093</td>\n",
              "      <td>-1.144319</td>\n",
              "    </tr>\n",
              "    <tr>\n",
              "      <th>4</th>\n",
              "      <td>-0.249557</td>\n",
              "      <td>-0.015248</td>\n",
              "      <td>-0.625854</td>\n",
              "      <td>-0.299518</td>\n",
              "      <td>-0.565934</td>\n",
              "      <td>-1.029090</td>\n",
              "      <td>-1.004968</td>\n",
              "      <td>-1.389245</td>\n",
              "      <td>-0.625028</td>\n",
              "      <td>-1.719234</td>\n",
              "      <td>-1.463420</td>\n",
              "      <td>0.105911</td>\n",
              "    </tr>\n",
              "    <tr>\n",
              "      <th>...</th>\n",
              "      <td>...</td>\n",
              "      <td>...</td>\n",
              "      <td>...</td>\n",
              "      <td>...</td>\n",
              "      <td>...</td>\n",
              "      <td>...</td>\n",
              "      <td>...</td>\n",
              "      <td>...</td>\n",
              "      <td>...</td>\n",
              "      <td>...</td>\n",
              "      <td>...</td>\n",
              "      <td>...</td>\n",
              "    </tr>\n",
              "    <tr>\n",
              "      <th>2995</th>\n",
              "      <td>0.774617</td>\n",
              "      <td>1.392227</td>\n",
              "      <td>0.597712</td>\n",
              "      <td>0.283580</td>\n",
              "      <td>0.553988</td>\n",
              "      <td>0.971733</td>\n",
              "      <td>0.944209</td>\n",
              "      <td>1.307097</td>\n",
              "      <td>0.608580</td>\n",
              "      <td>1.128060</td>\n",
              "      <td>-0.873093</td>\n",
              "      <td>0.816550</td>\n",
              "    </tr>\n",
              "    <tr>\n",
              "      <th>2996</th>\n",
              "      <td>-1.615123</td>\n",
              "      <td>1.392227</td>\n",
              "      <td>1.821279</td>\n",
              "      <td>1.449776</td>\n",
              "      <td>1.113949</td>\n",
              "      <td>0.971733</td>\n",
              "      <td>1.375079</td>\n",
              "      <td>-0.580343</td>\n",
              "      <td>1.842187</td>\n",
              "      <td>1.526681</td>\n",
              "      <td>0.307560</td>\n",
              "      <td>-0.052792</td>\n",
              "    </tr>\n",
              "    <tr>\n",
              "      <th>2997</th>\n",
              "      <td>0.140604</td>\n",
              "      <td>-0.015248</td>\n",
              "      <td>-0.625854</td>\n",
              "      <td>-0.882616</td>\n",
              "      <td>-0.565934</td>\n",
              "      <td>-1.029090</td>\n",
              "      <td>-1.004968</td>\n",
              "      <td>-1.187019</td>\n",
              "      <td>0.608580</td>\n",
              "      <td>1.412789</td>\n",
              "      <td>1.488214</td>\n",
              "      <td>-0.310245</td>\n",
              "    </tr>\n",
              "    <tr>\n",
              "      <th>2998</th>\n",
              "      <td>-1.566353</td>\n",
              "      <td>1.392227</td>\n",
              "      <td>1.209496</td>\n",
              "      <td>1.449776</td>\n",
              "      <td>1.113949</td>\n",
              "      <td>-1.029090</td>\n",
              "      <td>-1.004968</td>\n",
              "      <td>-1.187019</td>\n",
              "      <td>1.842187</td>\n",
              "      <td>-1.092829</td>\n",
              "      <td>-0.282766</td>\n",
              "      <td>0.731908</td>\n",
              "    </tr>\n",
              "    <tr>\n",
              "      <th>2999</th>\n",
              "      <td>0.872157</td>\n",
              "      <td>-0.015248</td>\n",
              "      <td>0.597712</td>\n",
              "      <td>0.866678</td>\n",
              "      <td>1.113949</td>\n",
              "      <td>-1.029090</td>\n",
              "      <td>-1.004968</td>\n",
              "      <td>0.835237</td>\n",
              "      <td>0.608580</td>\n",
              "      <td>1.412789</td>\n",
              "      <td>-0.282766</td>\n",
              "      <td>0.567914</td>\n",
              "    </tr>\n",
              "  </tbody>\n",
              "</table>\n",
              "<p>3000 rows × 12 columns</p>\n",
              "</div>\n",
              "      <button class=\"colab-df-convert\" onclick=\"convertToInteractive('df-4a51eb91-9400-4f0b-8ec6-1dbd88f09e53')\"\n",
              "              title=\"Convert this dataframe to an interactive table.\"\n",
              "              style=\"display:none;\">\n",
              "        \n",
              "  <svg xmlns=\"http://www.w3.org/2000/svg\" height=\"24px\"viewBox=\"0 0 24 24\"\n",
              "       width=\"24px\">\n",
              "    <path d=\"M0 0h24v24H0V0z\" fill=\"none\"/>\n",
              "    <path d=\"M18.56 5.44l.94 2.06.94-2.06 2.06-.94-2.06-.94-.94-2.06-.94 2.06-2.06.94zm-11 1L8.5 8.5l.94-2.06 2.06-.94-2.06-.94L8.5 2.5l-.94 2.06-2.06.94zm10 10l.94 2.06.94-2.06 2.06-.94-2.06-.94-.94-2.06-.94 2.06-2.06.94z\"/><path d=\"M17.41 7.96l-1.37-1.37c-.4-.4-.92-.59-1.43-.59-.52 0-1.04.2-1.43.59L10.3 9.45l-7.72 7.72c-.78.78-.78 2.05 0 2.83L4 21.41c.39.39.9.59 1.41.59.51 0 1.02-.2 1.41-.59l7.78-7.78 2.81-2.81c.8-.78.8-2.07 0-2.86zM5.41 20L4 18.59l7.72-7.72 1.47 1.35L5.41 20z\"/>\n",
              "  </svg>\n",
              "      </button>\n",
              "      \n",
              "  <style>\n",
              "    .colab-df-container {\n",
              "      display:flex;\n",
              "      flex-wrap:wrap;\n",
              "      gap: 12px;\n",
              "    }\n",
              "\n",
              "    .colab-df-convert {\n",
              "      background-color: #E8F0FE;\n",
              "      border: none;\n",
              "      border-radius: 50%;\n",
              "      cursor: pointer;\n",
              "      display: none;\n",
              "      fill: #1967D2;\n",
              "      height: 32px;\n",
              "      padding: 0 0 0 0;\n",
              "      width: 32px;\n",
              "    }\n",
              "\n",
              "    .colab-df-convert:hover {\n",
              "      background-color: #E2EBFA;\n",
              "      box-shadow: 0px 1px 2px rgba(60, 64, 67, 0.3), 0px 1px 3px 1px rgba(60, 64, 67, 0.15);\n",
              "      fill: #174EA6;\n",
              "    }\n",
              "\n",
              "    [theme=dark] .colab-df-convert {\n",
              "      background-color: #3B4455;\n",
              "      fill: #D2E3FC;\n",
              "    }\n",
              "\n",
              "    [theme=dark] .colab-df-convert:hover {\n",
              "      background-color: #434B5C;\n",
              "      box-shadow: 0px 1px 3px 1px rgba(0, 0, 0, 0.15);\n",
              "      filter: drop-shadow(0px 1px 2px rgba(0, 0, 0, 0.3));\n",
              "      fill: #FFFFFF;\n",
              "    }\n",
              "  </style>\n",
              "\n",
              "      <script>\n",
              "        const buttonEl =\n",
              "          document.querySelector('#df-4a51eb91-9400-4f0b-8ec6-1dbd88f09e53 button.colab-df-convert');\n",
              "        buttonEl.style.display =\n",
              "          google.colab.kernel.accessAllowed ? 'block' : 'none';\n",
              "\n",
              "        async function convertToInteractive(key) {\n",
              "          const element = document.querySelector('#df-4a51eb91-9400-4f0b-8ec6-1dbd88f09e53');\n",
              "          const dataTable =\n",
              "            await google.colab.kernel.invokeFunction('convertToInteractive',\n",
              "                                                     [key], {});\n",
              "          if (!dataTable) return;\n",
              "\n",
              "          const docLinkHtml = 'Like what you see? Visit the ' +\n",
              "            '<a target=\"_blank\" href=https://colab.research.google.com/notebooks/data_table.ipynb>data table notebook</a>'\n",
              "            + ' to learn more about interactive tables.';\n",
              "          element.innerHTML = '';\n",
              "          dataTable['output_type'] = 'display_data';\n",
              "          await google.colab.output.renderOutput(dataTable, element);\n",
              "          const docLink = document.createElement('div');\n",
              "          docLink.innerHTML = docLinkHtml;\n",
              "          element.appendChild(docLink);\n",
              "        }\n",
              "      </script>\n",
              "    </div>\n",
              "  </div>\n",
              "  "
            ]
          },
          "metadata": {},
          "execution_count": 171
        }
      ]
    },
    {
      "cell_type": "code",
      "source": [
        "house_data2.columns"
      ],
      "metadata": {
        "colab": {
          "base_uri": "https://localhost:8080/"
        },
        "id": "hdc339G7NowN",
        "outputId": "87055346-f6cb-4c69-8461-1329376bb4eb"
      },
      "execution_count": null,
      "outputs": [
        {
          "output_type": "execute_result",
          "data": {
            "text/plain": [
              "Index(['Area(total)', 'Trooms', 'Nbedrooms', 'Nbwashrooms', 'Twashrooms',\n",
              "       'roof', 'Roof(Area)', 'Lawn(Area)', 'Nfloors', 'API', 'ANB',\n",
              "       'Expected price'],\n",
              "      dtype='object')"
            ]
          },
          "metadata": {},
          "execution_count": 172
        }
      ]
    },
    {
      "cell_type": "code",
      "source": [
        "#Selecting Independent (Features) & Dependent(Target) variables\n",
        "\n",
        "X = house_data2\n",
        "y = house_data['Grade']\n",
        "\n",
        "\n"
      ],
      "metadata": {
        "id": "P2b9Q4O7Ehn3"
      },
      "execution_count": null,
      "outputs": []
    },
    {
      "cell_type": "code",
      "source": [
        "X"
      ],
      "metadata": {
        "colab": {
          "base_uri": "https://localhost:8080/",
          "height": 423
        },
        "id": "l99_PWh8K51P",
        "outputId": "bd841b0b-3dbd-4c07-ff4a-0b8008657912"
      },
      "execution_count": null,
      "outputs": [
        {
          "output_type": "execute_result",
          "data": {
            "text/plain": [
              "      Area(total)    Trooms  Nbedrooms  Nbwashrooms  Twashrooms      roof  \\\n",
              "0        0.677077 -0.718985  -0.014071    -0.299518   -0.005973 -1.029090   \n",
              "1        1.603710 -1.422722  -0.625854    -0.882616   -1.125895  0.971733   \n",
              "2       -0.054476 -0.015248  -0.014071    -0.299518   -0.565934  0.971733   \n",
              "3        0.238145 -0.718985  -0.625854    -0.882616   -0.565934  0.971733   \n",
              "4       -0.249557 -0.015248  -0.625854    -0.299518   -0.565934 -1.029090   \n",
              "...           ...       ...        ...          ...         ...       ...   \n",
              "2995     0.774617  1.392227   0.597712     0.283580    0.553988  0.971733   \n",
              "2996    -1.615123  1.392227   1.821279     1.449776    1.113949  0.971733   \n",
              "2997     0.140604 -0.015248  -0.625854    -0.882616   -0.565934 -1.029090   \n",
              "2998    -1.566353  1.392227   1.209496     1.449776    1.113949 -1.029090   \n",
              "2999     0.872157 -0.015248   0.597712     0.866678    1.113949 -1.029090   \n",
              "\n",
              "      Roof(Area)  Lawn(Area)   Nfloors       API       ANB  Expected price  \n",
              "0      -1.004968   -1.321837 -1.241831  0.501655  1.488214       -0.532429  \n",
              "1       0.451785    0.026334 -0.625028  0.103034  0.307560       -0.481292  \n",
              "2       1.067315    1.441914  0.608580 -0.352533 -0.282766       -0.061609  \n",
              "3       1.067315   -0.917385 -1.241831 -0.637262 -0.873093       -1.144319  \n",
              "4      -1.004968   -1.389245 -0.625028 -1.719234 -1.463420        0.105911  \n",
              "...          ...         ...       ...       ...       ...             ...  \n",
              "2995    0.944209    1.307097  0.608580  1.128060 -0.873093        0.816550  \n",
              "2996    1.375079   -0.580343  1.842187  1.526681  0.307560       -0.052792  \n",
              "2997   -1.004968   -1.187019  0.608580  1.412789  1.488214       -0.310245  \n",
              "2998   -1.004968   -1.187019  1.842187 -1.092829 -0.282766        0.731908  \n",
              "2999   -1.004968    0.835237  0.608580  1.412789 -0.282766        0.567914  \n",
              "\n",
              "[3000 rows x 12 columns]"
            ],
            "text/html": [
              "\n",
              "  <div id=\"df-e1f6c6dd-90f2-46f7-98df-681bd4601ed0\">\n",
              "    <div class=\"colab-df-container\">\n",
              "      <div>\n",
              "<style scoped>\n",
              "    .dataframe tbody tr th:only-of-type {\n",
              "        vertical-align: middle;\n",
              "    }\n",
              "\n",
              "    .dataframe tbody tr th {\n",
              "        vertical-align: top;\n",
              "    }\n",
              "\n",
              "    .dataframe thead th {\n",
              "        text-align: right;\n",
              "    }\n",
              "</style>\n",
              "<table border=\"1\" class=\"dataframe\">\n",
              "  <thead>\n",
              "    <tr style=\"text-align: right;\">\n",
              "      <th></th>\n",
              "      <th>Area(total)</th>\n",
              "      <th>Trooms</th>\n",
              "      <th>Nbedrooms</th>\n",
              "      <th>Nbwashrooms</th>\n",
              "      <th>Twashrooms</th>\n",
              "      <th>roof</th>\n",
              "      <th>Roof(Area)</th>\n",
              "      <th>Lawn(Area)</th>\n",
              "      <th>Nfloors</th>\n",
              "      <th>API</th>\n",
              "      <th>ANB</th>\n",
              "      <th>Expected price</th>\n",
              "    </tr>\n",
              "  </thead>\n",
              "  <tbody>\n",
              "    <tr>\n",
              "      <th>0</th>\n",
              "      <td>0.677077</td>\n",
              "      <td>-0.718985</td>\n",
              "      <td>-0.014071</td>\n",
              "      <td>-0.299518</td>\n",
              "      <td>-0.005973</td>\n",
              "      <td>-1.029090</td>\n",
              "      <td>-1.004968</td>\n",
              "      <td>-1.321837</td>\n",
              "      <td>-1.241831</td>\n",
              "      <td>0.501655</td>\n",
              "      <td>1.488214</td>\n",
              "      <td>-0.532429</td>\n",
              "    </tr>\n",
              "    <tr>\n",
              "      <th>1</th>\n",
              "      <td>1.603710</td>\n",
              "      <td>-1.422722</td>\n",
              "      <td>-0.625854</td>\n",
              "      <td>-0.882616</td>\n",
              "      <td>-1.125895</td>\n",
              "      <td>0.971733</td>\n",
              "      <td>0.451785</td>\n",
              "      <td>0.026334</td>\n",
              "      <td>-0.625028</td>\n",
              "      <td>0.103034</td>\n",
              "      <td>0.307560</td>\n",
              "      <td>-0.481292</td>\n",
              "    </tr>\n",
              "    <tr>\n",
              "      <th>2</th>\n",
              "      <td>-0.054476</td>\n",
              "      <td>-0.015248</td>\n",
              "      <td>-0.014071</td>\n",
              "      <td>-0.299518</td>\n",
              "      <td>-0.565934</td>\n",
              "      <td>0.971733</td>\n",
              "      <td>1.067315</td>\n",
              "      <td>1.441914</td>\n",
              "      <td>0.608580</td>\n",
              "      <td>-0.352533</td>\n",
              "      <td>-0.282766</td>\n",
              "      <td>-0.061609</td>\n",
              "    </tr>\n",
              "    <tr>\n",
              "      <th>3</th>\n",
              "      <td>0.238145</td>\n",
              "      <td>-0.718985</td>\n",
              "      <td>-0.625854</td>\n",
              "      <td>-0.882616</td>\n",
              "      <td>-0.565934</td>\n",
              "      <td>0.971733</td>\n",
              "      <td>1.067315</td>\n",
              "      <td>-0.917385</td>\n",
              "      <td>-1.241831</td>\n",
              "      <td>-0.637262</td>\n",
              "      <td>-0.873093</td>\n",
              "      <td>-1.144319</td>\n",
              "    </tr>\n",
              "    <tr>\n",
              "      <th>4</th>\n",
              "      <td>-0.249557</td>\n",
              "      <td>-0.015248</td>\n",
              "      <td>-0.625854</td>\n",
              "      <td>-0.299518</td>\n",
              "      <td>-0.565934</td>\n",
              "      <td>-1.029090</td>\n",
              "      <td>-1.004968</td>\n",
              "      <td>-1.389245</td>\n",
              "      <td>-0.625028</td>\n",
              "      <td>-1.719234</td>\n",
              "      <td>-1.463420</td>\n",
              "      <td>0.105911</td>\n",
              "    </tr>\n",
              "    <tr>\n",
              "      <th>...</th>\n",
              "      <td>...</td>\n",
              "      <td>...</td>\n",
              "      <td>...</td>\n",
              "      <td>...</td>\n",
              "      <td>...</td>\n",
              "      <td>...</td>\n",
              "      <td>...</td>\n",
              "      <td>...</td>\n",
              "      <td>...</td>\n",
              "      <td>...</td>\n",
              "      <td>...</td>\n",
              "      <td>...</td>\n",
              "    </tr>\n",
              "    <tr>\n",
              "      <th>2995</th>\n",
              "      <td>0.774617</td>\n",
              "      <td>1.392227</td>\n",
              "      <td>0.597712</td>\n",
              "      <td>0.283580</td>\n",
              "      <td>0.553988</td>\n",
              "      <td>0.971733</td>\n",
              "      <td>0.944209</td>\n",
              "      <td>1.307097</td>\n",
              "      <td>0.608580</td>\n",
              "      <td>1.128060</td>\n",
              "      <td>-0.873093</td>\n",
              "      <td>0.816550</td>\n",
              "    </tr>\n",
              "    <tr>\n",
              "      <th>2996</th>\n",
              "      <td>-1.615123</td>\n",
              "      <td>1.392227</td>\n",
              "      <td>1.821279</td>\n",
              "      <td>1.449776</td>\n",
              "      <td>1.113949</td>\n",
              "      <td>0.971733</td>\n",
              "      <td>1.375079</td>\n",
              "      <td>-0.580343</td>\n",
              "      <td>1.842187</td>\n",
              "      <td>1.526681</td>\n",
              "      <td>0.307560</td>\n",
              "      <td>-0.052792</td>\n",
              "    </tr>\n",
              "    <tr>\n",
              "      <th>2997</th>\n",
              "      <td>0.140604</td>\n",
              "      <td>-0.015248</td>\n",
              "      <td>-0.625854</td>\n",
              "      <td>-0.882616</td>\n",
              "      <td>-0.565934</td>\n",
              "      <td>-1.029090</td>\n",
              "      <td>-1.004968</td>\n",
              "      <td>-1.187019</td>\n",
              "      <td>0.608580</td>\n",
              "      <td>1.412789</td>\n",
              "      <td>1.488214</td>\n",
              "      <td>-0.310245</td>\n",
              "    </tr>\n",
              "    <tr>\n",
              "      <th>2998</th>\n",
              "      <td>-1.566353</td>\n",
              "      <td>1.392227</td>\n",
              "      <td>1.209496</td>\n",
              "      <td>1.449776</td>\n",
              "      <td>1.113949</td>\n",
              "      <td>-1.029090</td>\n",
              "      <td>-1.004968</td>\n",
              "      <td>-1.187019</td>\n",
              "      <td>1.842187</td>\n",
              "      <td>-1.092829</td>\n",
              "      <td>-0.282766</td>\n",
              "      <td>0.731908</td>\n",
              "    </tr>\n",
              "    <tr>\n",
              "      <th>2999</th>\n",
              "      <td>0.872157</td>\n",
              "      <td>-0.015248</td>\n",
              "      <td>0.597712</td>\n",
              "      <td>0.866678</td>\n",
              "      <td>1.113949</td>\n",
              "      <td>-1.029090</td>\n",
              "      <td>-1.004968</td>\n",
              "      <td>0.835237</td>\n",
              "      <td>0.608580</td>\n",
              "      <td>1.412789</td>\n",
              "      <td>-0.282766</td>\n",
              "      <td>0.567914</td>\n",
              "    </tr>\n",
              "  </tbody>\n",
              "</table>\n",
              "<p>3000 rows × 12 columns</p>\n",
              "</div>\n",
              "      <button class=\"colab-df-convert\" onclick=\"convertToInteractive('df-e1f6c6dd-90f2-46f7-98df-681bd4601ed0')\"\n",
              "              title=\"Convert this dataframe to an interactive table.\"\n",
              "              style=\"display:none;\">\n",
              "        \n",
              "  <svg xmlns=\"http://www.w3.org/2000/svg\" height=\"24px\"viewBox=\"0 0 24 24\"\n",
              "       width=\"24px\">\n",
              "    <path d=\"M0 0h24v24H0V0z\" fill=\"none\"/>\n",
              "    <path d=\"M18.56 5.44l.94 2.06.94-2.06 2.06-.94-2.06-.94-.94-2.06-.94 2.06-2.06.94zm-11 1L8.5 8.5l.94-2.06 2.06-.94-2.06-.94L8.5 2.5l-.94 2.06-2.06.94zm10 10l.94 2.06.94-2.06 2.06-.94-2.06-.94-.94-2.06-.94 2.06-2.06.94z\"/><path d=\"M17.41 7.96l-1.37-1.37c-.4-.4-.92-.59-1.43-.59-.52 0-1.04.2-1.43.59L10.3 9.45l-7.72 7.72c-.78.78-.78 2.05 0 2.83L4 21.41c.39.39.9.59 1.41.59.51 0 1.02-.2 1.41-.59l7.78-7.78 2.81-2.81c.8-.78.8-2.07 0-2.86zM5.41 20L4 18.59l7.72-7.72 1.47 1.35L5.41 20z\"/>\n",
              "  </svg>\n",
              "      </button>\n",
              "      \n",
              "  <style>\n",
              "    .colab-df-container {\n",
              "      display:flex;\n",
              "      flex-wrap:wrap;\n",
              "      gap: 12px;\n",
              "    }\n",
              "\n",
              "    .colab-df-convert {\n",
              "      background-color: #E8F0FE;\n",
              "      border: none;\n",
              "      border-radius: 50%;\n",
              "      cursor: pointer;\n",
              "      display: none;\n",
              "      fill: #1967D2;\n",
              "      height: 32px;\n",
              "      padding: 0 0 0 0;\n",
              "      width: 32px;\n",
              "    }\n",
              "\n",
              "    .colab-df-convert:hover {\n",
              "      background-color: #E2EBFA;\n",
              "      box-shadow: 0px 1px 2px rgba(60, 64, 67, 0.3), 0px 1px 3px 1px rgba(60, 64, 67, 0.15);\n",
              "      fill: #174EA6;\n",
              "    }\n",
              "\n",
              "    [theme=dark] .colab-df-convert {\n",
              "      background-color: #3B4455;\n",
              "      fill: #D2E3FC;\n",
              "    }\n",
              "\n",
              "    [theme=dark] .colab-df-convert:hover {\n",
              "      background-color: #434B5C;\n",
              "      box-shadow: 0px 1px 3px 1px rgba(0, 0, 0, 0.15);\n",
              "      filter: drop-shadow(0px 1px 2px rgba(0, 0, 0, 0.3));\n",
              "      fill: #FFFFFF;\n",
              "    }\n",
              "  </style>\n",
              "\n",
              "      <script>\n",
              "        const buttonEl =\n",
              "          document.querySelector('#df-e1f6c6dd-90f2-46f7-98df-681bd4601ed0 button.colab-df-convert');\n",
              "        buttonEl.style.display =\n",
              "          google.colab.kernel.accessAllowed ? 'block' : 'none';\n",
              "\n",
              "        async function convertToInteractive(key) {\n",
              "          const element = document.querySelector('#df-e1f6c6dd-90f2-46f7-98df-681bd4601ed0');\n",
              "          const dataTable =\n",
              "            await google.colab.kernel.invokeFunction('convertToInteractive',\n",
              "                                                     [key], {});\n",
              "          if (!dataTable) return;\n",
              "\n",
              "          const docLinkHtml = 'Like what you see? Visit the ' +\n",
              "            '<a target=\"_blank\" href=https://colab.research.google.com/notebooks/data_table.ipynb>data table notebook</a>'\n",
              "            + ' to learn more about interactive tables.';\n",
              "          element.innerHTML = '';\n",
              "          dataTable['output_type'] = 'display_data';\n",
              "          await google.colab.output.renderOutput(dataTable, element);\n",
              "          const docLink = document.createElement('div');\n",
              "          docLink.innerHTML = docLinkHtml;\n",
              "          element.appendChild(docLink);\n",
              "        }\n",
              "      </script>\n",
              "    </div>\n",
              "  </div>\n",
              "  "
            ]
          },
          "metadata": {},
          "execution_count": 174
        }
      ]
    },
    {
      "cell_type": "code",
      "source": [
        "y"
      ],
      "metadata": {
        "colab": {
          "base_uri": "https://localhost:8080/"
        },
        "id": "xHytFNxVLCXN",
        "outputId": "f4598cc0-d0b2-4527-d5b7-249685ca1bd7"
      },
      "execution_count": null,
      "outputs": [
        {
          "output_type": "execute_result",
          "data": {
            "text/plain": [
              "0       3\n",
              "1       3\n",
              "2       2\n",
              "3       3\n",
              "4       3\n",
              "       ..\n",
              "2995    1\n",
              "2996    0\n",
              "2997    3\n",
              "2998    1\n",
              "2999    2\n",
              "Name: Grade, Length: 3000, dtype: int64"
            ]
          },
          "metadata": {},
          "execution_count": 175
        }
      ]
    },
    {
      "cell_type": "markdown",
      "source": [
        "# **Splitting the dataset into the Training set and Test set**"
      ],
      "metadata": {
        "id": "Elyi7dcoEyRD"
      }
    },
    {
      "cell_type": "code",
      "source": [
        "from sklearn.model_selection import train_test_split\n",
        "X_train, X_test, y_train, y_test = train_test_split(X, y, test_size = 0.2 , random_state = 1)"
      ],
      "metadata": {
        "id": "qBV1Rek5ExqW"
      },
      "execution_count": null,
      "outputs": []
    },
    {
      "cell_type": "code",
      "source": [
        "print(X_train.shape)\n",
        "print(X_test.shape)\n",
        "print(y_train.shape)\n",
        "print(y_test.shape)"
      ],
      "metadata": {
        "colab": {
          "base_uri": "https://localhost:8080/"
        },
        "id": "oG67wjPsE7KG",
        "outputId": "3643fa95-05fe-4acc-9bc1-4504d6045a7b"
      },
      "execution_count": null,
      "outputs": [
        {
          "output_type": "stream",
          "name": "stdout",
          "text": [
            "(2400, 12)\n",
            "(600, 12)\n",
            "(2400,)\n",
            "(600,)\n"
          ]
        }
      ]
    },
    {
      "cell_type": "markdown",
      "source": [
        "# **Model Building**"
      ],
      "metadata": {
        "id": "0PFrpqXhE_Wd"
      }
    },
    {
      "cell_type": "markdown",
      "source": [
        "# **Model 1:Logistic Regression** "
      ],
      "metadata": {
        "id": "ZZMPgNk_FBNW"
      }
    },
    {
      "cell_type": "code",
      "source": [
        "#Creating the model\n",
        "log_model= LogisticRegression()\n",
        "#Fitting the training dataset to model\n",
        "y_score=log_model.fit(X_train,y_train).predict_proba(X_test)"
      ],
      "metadata": {
        "id": "TtIvN5bC78nh"
      },
      "execution_count": null,
      "outputs": []
    },
    {
      "cell_type": "code",
      "source": [
        "#using the train model to predict the outcome of x_test dataset\n",
        "y_pred_train=log_model.predict(X_train)\n",
        "y_pred=log_model.predict(X_test)"
      ],
      "metadata": {
        "id": "5kjZG6UdN_tv"
      },
      "execution_count": null,
      "outputs": []
    },
    {
      "cell_type": "code",
      "source": [
        "#Calculating the accuracy of the training dataset\n",
        "#score\n",
        "log_model.score(X_train, y_train)"
      ],
      "metadata": {
        "colab": {
          "base_uri": "https://localhost:8080/"
        },
        "id": "hPoNpBs6Ob4n",
        "outputId": "60e5639b-1d8d-428f-861d-696b0674e0d6"
      },
      "execution_count": null,
      "outputs": [
        {
          "output_type": "execute_result",
          "data": {
            "text/plain": [
              "0.9620833333333333"
            ]
          },
          "metadata": {},
          "execution_count": 180
        }
      ]
    },
    {
      "cell_type": "code",
      "source": [
        "#Calculating the accuracy of the testing dataset\n",
        "#score\n",
        "log_model.score(X_test, y_test)"
      ],
      "metadata": {
        "colab": {
          "base_uri": "https://localhost:8080/"
        },
        "id": "U5RXai63Omo1",
        "outputId": "040f1b00-c99d-4005-a718-4982fbe87dc8"
      },
      "execution_count": null,
      "outputs": [
        {
          "output_type": "execute_result",
          "data": {
            "text/plain": [
              "0.9666666666666667"
            ]
          },
          "metadata": {},
          "execution_count": 181
        }
      ]
    },
    {
      "cell_type": "code",
      "source": [
        "# indicates the value of the slope of each parameter \n",
        "log_model.intercept_"
      ],
      "metadata": {
        "colab": {
          "base_uri": "https://localhost:8080/"
        },
        "id": "nn_kyePp8MJC",
        "outputId": "28dd7590-97dc-4d2d-f59d-46932ff34fe1"
      },
      "execution_count": null,
      "outputs": [
        {
          "output_type": "execute_result",
          "data": {
            "text/plain": [
              "array([-13.52836942,   2.4597404 ,   9.3644407 ,   7.2457706 ,\n",
              "        -5.54158228])"
            ]
          },
          "metadata": {},
          "execution_count": 182
        }
      ]
    },
    {
      "cell_type": "markdown",
      "source": [
        "# **Model Evulation**"
      ],
      "metadata": {
        "id": "LHpQ5muMQhb9"
      }
    },
    {
      "cell_type": "code",
      "source": [
        "from sklearn.metrics import accuracy_score\n",
        "from sklearn.metrics import recall_score\n",
        "from sklearn.metrics import precision_score\n",
        "from sklearn.metrics import f1_score\n",
        "from sklearn.metrics import confusion_matrix"
      ],
      "metadata": {
        "id": "LyhOSQgLQm4O"
      },
      "execution_count": null,
      "outputs": []
    },
    {
      "cell_type": "code",
      "source": [
        "#Confusion matrix\n",
        "cm=confusion_matrix(y_test,y_pred)\n",
        "cm\n"
      ],
      "metadata": {
        "colab": {
          "base_uri": "https://localhost:8080/"
        },
        "id": "Za6Y44ooQYnu",
        "outputId": "a7127dca-87f4-4430-d8ea-2aad414576e2"
      },
      "execution_count": null,
      "outputs": [
        {
          "output_type": "execute_result",
          "data": {
            "text/plain": [
              "array([[ 88,   2,   0,   0,   0],\n",
              "       [  1, 116,   3,   0,   0],\n",
              "       [  0,   1, 129,   8,   0],\n",
              "       [  0,   0,   3, 234,   1],\n",
              "       [  0,   0,   0,   1,  13]])"
            ]
          },
          "metadata": {},
          "execution_count": 184
        }
      ]
    },
    {
      "cell_type": "code",
      "source": [
        "print(\"Accuracy Score on training set : \", metrics.accuracy_score(y_train, y_pred_train))\n",
        "print(\"Accuracy Score on test set : \", metrics.accuracy_score(y_test, y_pred))\n",
        "print(\"-------------------------------------------------------------\")\n",
        "print(\"Recall on training set : \", metrics.recall_score(y_train, y_pred_train,average='weighted'))\n",
        "print(\"Recall on test set : \", metrics.recall_score(y_test, y_pred,average='weighted'))\n",
        "\n",
        "print(\"-------------------------------------------------------------\")\n",
        "print(\"F1 Score on training set : \", metrics.f1_score(y_train, y_pred_train,average='weighted'))\n",
        "print(\"F1 Score on test set : \", metrics.f1_score(y_test, y_pred,average='weighted'))\n",
        "print(\"-------------------------------------------------------------\")\n",
        "print(\"Precision Score on training set : \", metrics.precision_score(y_train, y_pred_train,average='weighted'))\n",
        "print(\"Precision Score on test set : \", metrics.precision_score(y_test, y_pred,average='weighted'))"
      ],
      "metadata": {
        "colab": {
          "base_uri": "https://localhost:8080/"
        },
        "id": "aeoTZzcdUDRG",
        "outputId": "439be2b7-610e-4a5d-e58e-8d5170151b8e"
      },
      "execution_count": null,
      "outputs": [
        {
          "output_type": "stream",
          "name": "stdout",
          "text": [
            "Accuracy Score on training set :  0.9620833333333333\n",
            "Accuracy Score on test set :  0.9666666666666667\n",
            "-------------------------------------------------------------\n",
            "Recall on training set :  0.9620833333333333\n",
            "Recall on test set :  0.9666666666666667\n",
            "-------------------------------------------------------------\n",
            "F1 Score on training set :  0.9616976019045542\n",
            "F1 Score on test set :  0.9666035429090288\n",
            "-------------------------------------------------------------\n",
            "Precision Score on training set :  0.9620517880892182\n",
            "Precision Score on test set :  0.9666923430212702\n"
          ]
        }
      ]
    },
    {
      "cell_type": "code",
      "source": [
        "#classification report\n",
        "from sklearn.metrics import classification_report\n",
        "print(classification_report(y_test,y_pred))"
      ],
      "metadata": {
        "colab": {
          "base_uri": "https://localhost:8080/"
        },
        "id": "Ukk5m4x7WOf0",
        "outputId": "5d826318-73ef-4f96-862f-613800945481"
      },
      "execution_count": null,
      "outputs": [
        {
          "output_type": "stream",
          "name": "stdout",
          "text": [
            "              precision    recall  f1-score   support\n",
            "\n",
            "           0       0.99      0.98      0.98        90\n",
            "           1       0.97      0.97      0.97       120\n",
            "           2       0.96      0.93      0.95       138\n",
            "           3       0.96      0.98      0.97       238\n",
            "           4       0.93      0.93      0.93        14\n",
            "\n",
            "    accuracy                           0.97       600\n",
            "   macro avg       0.96      0.96      0.96       600\n",
            "weighted avg       0.97      0.97      0.97       600\n",
            "\n"
          ]
        }
      ]
    },
    {
      "cell_type": "markdown",
      "source": [
        "# **ROC and AUC**"
      ],
      "metadata": {
        "id": "m5D5FTeKh6cb"
      }
    },
    {
      "cell_type": "code",
      "source": [
        "from sklearn.preprocessing import LabelBinarizer\n",
        "\n",
        "label_binarizer = LabelBinarizer().fit(y_train)\n",
        "y_onehot_test = label_binarizer.transform(y_test)\n",
        "y_onehot_test.shape  # (n_samples, n_classes)\n",
        "\n",
        "\n",
        "\n"
      ],
      "metadata": {
        "colab": {
          "base_uri": "https://localhost:8080/"
        },
        "id": "omhTyaj5h4Rr",
        "outputId": "72de6848-ac82-4170-8da1-4c55af1b6081"
      },
      "execution_count": null,
      "outputs": [
        {
          "output_type": "execute_result",
          "data": {
            "text/plain": [
              "(600, 5)"
            ]
          },
          "metadata": {},
          "execution_count": 187
        }
      ]
    },
    {
      "cell_type": "code",
      "source": [
        "label_binarizer.transform([0])\n"
      ],
      "metadata": {
        "colab": {
          "base_uri": "https://localhost:8080/"
        },
        "id": "khdNHWHs0kdG",
        "outputId": "48e679bd-4861-4c91-e75a-6be6a50be668"
      },
      "execution_count": null,
      "outputs": [
        {
          "output_type": "execute_result",
          "data": {
            "text/plain": [
              "array([[1, 0, 0, 0, 0]])"
            ]
          },
          "metadata": {},
          "execution_count": 188
        }
      ]
    },
    {
      "cell_type": "code",
      "source": [
        "class_of_interest = 0\n",
        "class_id = np.flatnonzero(label_binarizer.classes_ == class_of_interest)[0]\n",
        "class_id"
      ],
      "metadata": {
        "colab": {
          "base_uri": "https://localhost:8080/"
        },
        "id": "-hYWQZ-b03ho",
        "outputId": "bdaf0ba9-bb0d-4c5f-dc85-b6e4bcc3165d"
      },
      "execution_count": null,
      "outputs": [
        {
          "output_type": "execute_result",
          "data": {
            "text/plain": [
              "0"
            ]
          },
          "metadata": {},
          "execution_count": 189
        }
      ]
    },
    {
      "cell_type": "code",
      "source": [
        "import matplotlib.pyplot as plt\n",
        "from sklearn.metrics import RocCurveDisplay\n",
        "\n",
        "RocCurveDisplay.from_predictions(\n",
        "    y_onehot_test[:, class_id],\n",
        "    y_score[:, class_id],\n",
        "    name=f\"{class_of_interest} vs the rest\",\n",
        "    color=\"darkorange\",)\n",
        "plt.plot([0, 1], [0, 1], \"k--\", label=\"chance level (AUC = 0.5)\")\n",
        "plt.axis(\"square\")\n",
        "plt.xlabel(\"False Positive Rate\")\n",
        "plt.ylabel(\"True Positive Rate\")\n",
        "plt.title(\"One-vs-Rest ROC curves:\\nGrade Avs (B,C,D,E)\")\n",
        "plt.legend()\n",
        "plt.show()"
      ],
      "metadata": {
        "colab": {
          "base_uri": "https://localhost:8080/",
          "height": 310
        },
        "id": "Wc8ThUXi1UDU",
        "outputId": "791e69e0-beec-480e-f5f2-8ecd625071bf"
      },
      "execution_count": null,
      "outputs": [
        {
          "output_type": "display_data",
          "data": {
            "text/plain": [
              "<Figure size 432x288 with 1 Axes>"
            ],
            "image/png": "[encoded data removed]"
          },
          "metadata": {
            "needs_background": "light"
          }
        }
      ]
    },
    {
      "cell_type": "markdown",
      "source": [
        "** ROC curve for Grade A**"
      ],
      "metadata": {
        "id": "qhdLb-iRKNQ5"
      }
    },
    {
      "cell_type": "code",
      "source": [
        "label_binarizer.transform([1])\n"
      ],
      "metadata": {
        "colab": {
          "base_uri": "https://localhost:8080/"
        },
        "id": "qwFwMUHNLc1J",
        "outputId": "f7a4f5f9-c378-4a93-e2d3-22b091ea137a"
      },
      "execution_count": null,
      "outputs": [
        {
          "output_type": "execute_result",
          "data": {
            "text/plain": [
              "array([[0, 1, 0, 0, 0]])"
            ]
          },
          "metadata": {},
          "execution_count": 191
        }
      ]
    },
    {
      "cell_type": "code",
      "source": [
        "class_of_interest = 1\n",
        "class_id = np.flatnonzero(label_binarizer.classes_ == class_of_interest)[0]\n",
        "class_id"
      ],
      "metadata": {
        "colab": {
          "base_uri": "https://localhost:8080/"
        },
        "id": "dZ-TCLWbLgwq",
        "outputId": "a31c23b4-8d96-4426-cde9-dd3b18b7d4af"
      },
      "execution_count": null,
      "outputs": [
        {
          "output_type": "execute_result",
          "data": {
            "text/plain": [
              "1"
            ]
          },
          "metadata": {},
          "execution_count": 192
        }
      ]
    },
    {
      "cell_type": "code",
      "source": [
        "import matplotlib.pyplot as plt\n",
        "from sklearn.metrics import RocCurveDisplay\n",
        "\n",
        "RocCurveDisplay.from_predictions(\n",
        "    y_onehot_test[:, class_id],\n",
        "    y_score[:, class_id],\n",
        "    name=f\"{class_of_interest} vs the rest\",\n",
        "    color=\"darkorange\",)\n",
        "plt.plot([0, 1], [0, 1], \"k--\", label=\"chance level (AUC = 0.5)\")\n",
        "# plt.axis(\"square\")\n",
        "plt.xlabel(\"False Positive Rate\")\n",
        "plt.ylabel(\"True Positive Rate\")\n",
        "plt.title(\"One-vs-Rest ROC curves:\\nGrade Avs (A,C,D,E)\")\n",
        "plt.legend()\n",
        "plt.show()"
      ],
      "metadata": {
        "colab": {
          "base_uri": "https://localhost:8080/",
          "height": 310
        },
        "id": "lzFCncbCKYM-",
        "outputId": "699c4d41-b38d-40e6-b218-aab28b0f747a"
      },
      "execution_count": null,
      "outputs": [
        {
          "output_type": "display_data",
          "data": {
            "text/plain": [
              "<Figure size 432x288 with 1 Axes>"
            ],
            "image/png": "[encoded data removed]"
          },
          "metadata": {
            "needs_background": "light"
          }
        }
      ]
    },
    {
      "cell_type": "code",
      "source": [
        "from sklearn.metrics import roc_curve, auc\n",
        "from matplotlib import pyplot as plt\n",
        "\n",
        "\n",
        "def plot_roc(y_test, y_score):\n",
        "\n",
        "    fpr = dict()\n",
        "    tpr = dict()\n",
        "    roc_auc = dict()\n",
        "    \n",
        "    # Compute micro-average ROC curve and ROC area\n",
        "    fpr[i], tpr[i], _ = metrics.roc_curve(y_test.ravel(), y_score.ravel())\n",
        "    roc_auc[i] = metrics.auc(fpr[i], tpr[i])\n",
        "    plt.figure()\n",
        "    lw = 2\n",
        "    plt.plot(fpr[i], tpr[i], color='darkorange',\n",
        "             lw=lw, label='ROC curve (area = %0.2f)' % roc_auc[i])\n",
        "plt.plot([0, 1], [0, 1], color='navy', label='Logistic Regression') \n",
        "plt.xlim([0.0, 1.0])\n",
        "plt.ylim([0.0, 1.05])\n",
        "plt.xlabel('False Positive Rate')\n",
        "plt.ylabel('True Positive Rate')\n",
        "plt.title('Receiver operating characteristic example')\n",
        "plt.legend(loc=\"lower right\")\n",
        "plt.show()\n",
        "# plt.plot(fpr1, tpr1, linestyle='--',color='orange', label='Logistic Regression')\n",
        "# \"chance level (AUC = 0.8)\"\n"
      ],
      "metadata": {
        "colab": {
          "base_uri": "https://localhost:8080/",
          "height": 295
        },
        "id": "QhNDLWaIS5VW",
        "outputId": "9a8c4785-b1d5-4839-f033-80005093d860"
      },
      "execution_count": null,
      "outputs": [
        {
          "output_type": "display_data",
          "data": {
            "text/plain": [
              "<Figure size 432x288 with 1 Axes>"
            ],
            "image/png": "[encoded data removed]"
          },
          "metadata": {
            "needs_background": "light"
          }
        }
      ]
    },
    {
      "cell_type": "markdown",
      "source": [
        "# **Interpetation:**\n",
        "**Accuracy of the logistic regression model is 96%**"
      ],
      "metadata": {
        "id": "26NnSgFZUsSD"
      }
    },
    {
      "cell_type": "markdown",
      "source": [
        "# **MOdel 2:Naive Bayes**"
      ],
      "metadata": {
        "id": "2vBwyEouVHqG"
      }
    },
    {
      "cell_type": "code",
      "source": [
        "#Creating the model\n",
        "nb_model=GaussianNB()\n",
        "score1=nb_model.fit(X_train,y_train)"
      ],
      "metadata": {
        "id": "oFd7wqFqVL_Q"
      },
      "execution_count": null,
      "outputs": []
    },
    {
      "cell_type": "code",
      "source": [
        "#using the train model to predict the outcome of x_test dataset\n",
        "y_pred_train2 = nb_model.predict(X_train)\n",
        "y_pred2 = nb_model.predict(X_test)\n",
        "\n"
      ],
      "metadata": {
        "id": "rp6DHfsrVXzL"
      },
      "execution_count": null,
      "outputs": []
    },
    {
      "cell_type": "code",
      "source": [
        "#Confusion matrix\n",
        "cm=confusion_matrix(y_test,y_pred2)\n",
        "cm"
      ],
      "metadata": {
        "colab": {
          "base_uri": "https://localhost:8080/"
        },
        "id": "21lC6oweVl5w",
        "outputId": "c7e32e04-ae29-4412-acc1-f6233418ea8b"
      },
      "execution_count": null,
      "outputs": [
        {
          "output_type": "execute_result",
          "data": {
            "text/plain": [
              "array([[ 77,  13,   0,   0,   0],\n",
              "       [  9,  96,  15,   0,   0],\n",
              "       [  0,  22, 100,  16,   0],\n",
              "       [  0,   0,  32, 191,  15],\n",
              "       [  0,   0,   0,   3,  11]])"
            ]
          },
          "metadata": {},
          "execution_count": 110
        }
      ]
    },
    {
      "cell_type": "markdown",
      "source": [
        "# **Model Evulation**"
      ],
      "metadata": {
        "id": "XBbWEAucX5rd"
      }
    },
    {
      "cell_type": "code",
      "source": [
        "print(\"Accuracy Score on training set : \", metrics.accuracy_score(y_train, y_pred_train2))\n",
        "print(\"Accuracy Score on test set : \", metrics.accuracy_score(y_test, y_pred2))\n",
        "print(\"-------------------------------------------------------------\")\n",
        "print(\"Recall on training set : \", metrics.recall_score(y_train, y_pred_train2,average='weighted'))\n",
        "print(\"Recall on test set : \", metrics.recall_score(y_test, y_pred2,average='weighted'))\n",
        "\n",
        "print(\"-------------------------------------------------------------\")\n",
        "print(\"F1 Score on training set : \", metrics.f1_score(y_train, y_pred_train2,average='weighted'))\n",
        "print(\"F1 Score on test set : \", metrics.f1_score(y_test, y_pred2,average='weighted'))\n",
        "print(\"-------------------------------------------------------------\")\n",
        "print(\"Precision Score on training set : \", metrics.precision_score(y_train, y_pred_train2,average='weighted'))\n",
        "print(\"Precision Score on test set : \", metrics.precision_score(y_test, y_pred2,average='weighted'))"
      ],
      "metadata": {
        "colab": {
          "base_uri": "https://localhost:8080/"
        },
        "id": "ikGDn0bsV-qk",
        "outputId": "2c70b7be-05b0-4178-ea71-3d72da21d56c"
      },
      "execution_count": null,
      "outputs": [
        {
          "output_type": "stream",
          "name": "stdout",
          "text": [
            "Accuracy Score on training set :  0.8045833333333333\n",
            "Accuracy Score on test set :  0.7916666666666666\n",
            "-------------------------------------------------------------\n",
            "Recall on training set :  0.8045833333333333\n",
            "Recall on test set :  0.7916666666666666\n",
            "-------------------------------------------------------------\n",
            "F1 Score on training set :  0.808000348255721\n",
            "F1 Score on test set :  0.7967040565806948\n",
            "-------------------------------------------------------------\n",
            "Precision Score on training set :  0.8157417627220832\n",
            "Precision Score on test set :  0.8079793687611648\n"
          ]
        }
      ]
    },
    {
      "cell_type": "markdown",
      "source": [
        "# **Interpetation:**\n",
        "**Accuracy score for Naive Bayers is 79%**"
      ],
      "metadata": {
        "id": "Sfb2EUTgYOJO"
      }
    },
    {
      "cell_type": "markdown",
      "source": [
        "# **Model 3:Decision Trees**"
      ],
      "metadata": {
        "id": "Pn-s12X8Ydxx"
      }
    },
    {
      "cell_type": "code",
      "source": [
        "#Creating the model\n",
        "dc_model = DecisionTreeClassifier(random_state=1)\n",
        "\n",
        "# Grid of parameters to choose from\n",
        "parameters = {'max_depth': np.arange(1,10)}\n",
        "# Run the grid search\n",
        "grid_obj = GridSearchCV(dc_model, param_grid=parameters,scoring='accuracy', cv=5)\n",
        "grid_obj = grid_obj.fit(X_train, y_train)\n",
        "\n",
        "# Set the clf to the best combination of parameters\n",
        "dc_model = grid_obj.best_estimator_\n",
        "\n",
        "# Fit the best algorithm to the data. \n",
        "dc_model.fit(X_train, y_train)"
      ],
      "metadata": {
        "colab": {
          "base_uri": "https://localhost:8080/",
          "height": 74
        },
        "id": "aojdo5B0Yjy4",
        "outputId": "f78d1e23-364e-43de-f407-641b04ac6017"
      },
      "execution_count": null,
      "outputs": [
        {
          "output_type": "execute_result",
          "data": {
            "text/plain": [
              "DecisionTreeClassifier(max_depth=8, random_state=1)"
            ],
            "text/html": [
              "<style>#sk-container-id-2 {color: black;background-color: white;}#sk-container-id-2 pre{padding: 0;}#sk-container-id-2 div.sk-toggleable {background-color: white;}#sk-container-id-2 label.sk-toggleable__label {cursor: pointer;display: block;width: 100%;margin-bottom: 0;padding: 0.3em;box-sizing: border-box;text-align: center;}#sk-container-id-2 label.sk-toggleable__label-arrow:before {content: \"▸\";float: left;margin-right: 0.25em;color: #696969;}#sk-container-id-2 label.sk-toggleable__label-arrow:hover:before {color: black;}#sk-container-id-2 div.sk-estimator:hover label.sk-toggleable__label-arrow:before {color: black;}#sk-container-id-2 div.sk-toggleable__content {max-height: 0;max-width: 0;overflow: hidden;text-align: left;background-color: #f0f8ff;}#sk-container-id-2 div.sk-toggleable__content pre {margin: 0.2em;color: black;border-radius: 0.25em;background-color: #f0f8ff;}#sk-container-id-2 input.sk-toggleable__control:checked~div.sk-toggleable__content {max-height: 200px;max-width: 100%;overflow: auto;}#sk-container-id-2 input.sk-toggleable__control:checked~label.sk-toggleable__label-arrow:before {content: \"▾\";}#sk-container-id-2 div.sk-estimator input.sk-toggleable__control:checked~label.sk-toggleable__label {background-color: #d4ebff;}#sk-container-id-2 div.sk-label input.sk-toggleable__control:checked~label.sk-toggleable__label {background-color: #d4ebff;}#sk-container-id-2 input.sk-hidden--visually {border: 0;clip: rect(1px 1px 1px 1px);clip: rect(1px, 1px, 1px, 1px);height: 1px;margin: -1px;overflow: hidden;padding: 0;position: absolute;width: 1px;}#sk-container-id-2 div.sk-estimator {font-family: monospace;background-color: #f0f8ff;border: 1px dotted black;border-radius: 0.25em;box-sizing: border-box;margin-bottom: 0.5em;}#sk-container-id-2 div.sk-estimator:hover {background-color: #d4ebff;}#sk-container-id-2 div.sk-parallel-item::after {content: \"\";width: 100%;border-bottom: 1px solid gray;flex-grow: 1;}#sk-container-id-2 div.sk-label:hover label.sk-toggleable__label {background-color: #d4ebff;}#sk-container-id-2 div.sk-serial::before {content: \"\";position: absolute;border-left: 1px solid gray;box-sizing: border-box;top: 0;bottom: 0;left: 50%;z-index: 0;}#sk-container-id-2 div.sk-serial {display: flex;flex-direction: column;align-items: center;background-color: white;padding-right: 0.2em;padding-left: 0.2em;position: relative;}#sk-container-id-2 div.sk-item {position: relative;z-index: 1;}#sk-container-id-2 div.sk-parallel {display: flex;align-items: stretch;justify-content: center;background-color: white;position: relative;}#sk-container-id-2 div.sk-item::before, #sk-container-id-2 div.sk-parallel-item::before {content: \"\";position: absolute;border-left: 1px solid gray;box-sizing: border-box;top: 0;bottom: 0;left: 50%;z-index: -1;}#sk-container-id-2 div.sk-parallel-item {display: flex;flex-direction: column;z-index: 1;position: relative;background-color: white;}#sk-container-id-2 div.sk-parallel-item:first-child::after {align-self: flex-end;width: 50%;}#sk-container-id-2 div.sk-parallel-item:last-child::after {align-self: flex-start;width: 50%;}#sk-container-id-2 div.sk-parallel-item:only-child::after {width: 0;}#sk-container-id-2 div.sk-dashed-wrapped {border: 1px dashed gray;margin: 0 0.4em 0.5em 0.4em;box-sizing: border-box;padding-bottom: 0.4em;background-color: white;}#sk-container-id-2 div.sk-label label {font-family: monospace;font-weight: bold;display: inline-block;line-height: 1.2em;}#sk-container-id-2 div.sk-label-container {text-align: center;}#sk-container-id-2 div.sk-container {/* jupyter's `normalize.less` sets `[hidden] { display: none; }` but bootstrap.min.css set `[hidden] { display: none !important; }` so we also need the `!important` here to be able to override the default hidden behavior on the sphinx rendered scikit-learn.org. See: https://github.com/scikit-learn/scikit-learn/issues/21755 */display: inline-block !important;position: relative;}#sk-container-id-2 div.sk-text-repr-fallback {display: none;}</style><div id=\"sk-container-id-2\" class=\"sk-top-container\"><div class=\"sk-text-repr-fallback\"><pre>DecisionTreeClassifier(max_depth=8, random_state=1)</pre><b>In a Jupyter environment, please rerun this cell to show the HTML representation or trust the notebook. <br />On GitHub, the HTML representation is unable to render, please try loading this page with nbviewer.org.</b></div><div class=\"sk-container\" hidden><div class=\"sk-item\"><div class=\"sk-estimator sk-toggleable\"><input class=\"sk-toggleable__control sk-hidden--visually\" id=\"sk-estimator-id-2\" type=\"checkbox\" checked><label for=\"sk-estimator-id-2\" class=\"sk-toggleable__label sk-toggleable__label-arrow\">DecisionTreeClassifier</label><div class=\"sk-toggleable__content\"><pre>DecisionTreeClassifier(max_depth=8, random_state=1)</pre></div></div></div></div></div>"
            ]
          },
          "metadata": {},
          "execution_count": 112
        }
      ]
    },
    {
      "cell_type": "code",
      "source": [
        "#using the train model to predict the outcome of x_test dataset\n",
        "y_pred_train3= dc_model.predict(X_train)\n",
        "y_pred3 = dc_model.predict(X_test)"
      ],
      "metadata": {
        "id": "4xde19GlZQvm"
      },
      "execution_count": null,
      "outputs": []
    },
    {
      "cell_type": "code",
      "source": [
        "#Confusion matrix\n",
        "cm=confusion_matrix(y_test,y_pred2)\n",
        "cm"
      ],
      "metadata": {
        "colab": {
          "base_uri": "https://localhost:8080/"
        },
        "id": "hXA4pqdYZdEV",
        "outputId": "a8c9dc97-75c6-497a-df7a-852a0fe1f9a7"
      },
      "execution_count": null,
      "outputs": [
        {
          "output_type": "execute_result",
          "data": {
            "text/plain": [
              "array([[ 77,  13,   0,   0,   0],\n",
              "       [  9,  96,  15,   0,   0],\n",
              "       [  0,  22, 100,  16,   0],\n",
              "       [  0,   0,  32, 191,  15],\n",
              "       [  0,   0,   0,   3,  11]])"
            ]
          },
          "metadata": {},
          "execution_count": 114
        }
      ]
    },
    {
      "cell_type": "markdown",
      "source": [
        "# **Model Evulation**"
      ],
      "metadata": {
        "id": "Ef2AFq2yZidq"
      }
    },
    {
      "cell_type": "code",
      "source": [
        "print(\"Accuracy Score on training set : \", metrics.accuracy_score(y_train, y_pred_train3))\n",
        "print(\"Accuracy Score on test set : \", metrics.accuracy_score(y_test, y_pred3))\n",
        "print(\"-------------------------------------------------------------\")\n",
        "print(\"Recall on training set : \", metrics.recall_score(y_train, y_pred_train3,average='weighted'))\n",
        "print(\"Recall on test set : \", metrics.recall_score(y_test, y_pred3,average='weighted'))\n",
        "\n",
        "print(\"-------------------------------------------------------------\")\n",
        "print(\"F1 Score on training set : \", metrics.f1_score(y_train, y_pred_train3,average='weighted'))\n",
        "print(\"F1 Score on test set : \", metrics.f1_score(y_test, y_pred3,average='weighted'))\n",
        "print(\"-------------------------------------------------------------\")\n",
        "print(\"Precision Score on training set : \", metrics.precision_score(y_train, y_pred_train3,average='weighted'))\n",
        "print(\"Precision Score on test set : \", metrics.precision_score(y_test, y_pred3,average='weighted'))"
      ],
      "metadata": {
        "colab": {
          "base_uri": "https://localhost:8080/"
        },
        "id": "Zw03NZabZn9P",
        "outputId": "92792fab-f274-4319-be33-9d41b9cba632"
      },
      "execution_count": null,
      "outputs": [
        {
          "output_type": "stream",
          "name": "stdout",
          "text": [
            "Accuracy Score on training set :  0.9533333333333334\n",
            "Accuracy Score on test set :  0.865\n",
            "-------------------------------------------------------------\n",
            "Recall on training set :  0.9533333333333334\n",
            "Recall on test set :  0.865\n",
            "-------------------------------------------------------------\n",
            "F1 Score on training set :  0.9532050960406879\n",
            "F1 Score on test set :  0.864954931241731\n",
            "-------------------------------------------------------------\n",
            "Precision Score on training set :  0.9531235033541312\n",
            "Precision Score on test set :  0.8653937675658612\n"
          ]
        }
      ]
    },
    {
      "cell_type": "code",
      "source": [
        "feature_names = list(X.columns)\n",
        "print(feature_names)"
      ],
      "metadata": {
        "colab": {
          "base_uri": "https://localhost:8080/"
        },
        "id": "lc5U7MgmaP3i",
        "outputId": "d1d5dd8b-2112-49ec-d0e1-80a83fbbfa12"
      },
      "execution_count": null,
      "outputs": [
        {
          "output_type": "stream",
          "name": "stdout",
          "text": [
            "['Area(total)', 'Trooms', 'Nbedrooms', 'Nbwashrooms', 'Twashrooms', 'roof', 'Roof(Area)', 'Lawn(Area)', 'Nfloors', 'API', 'ANB', 'Expected price']\n"
          ]
        }
      ]
    },
    {
      "cell_type": "code",
      "source": [
        "# plt.figure(figsize=(10, 10))\n",
        "# Setting dpi = 300 to make image clearer than default\n",
        "fig, axes = plt.subplots(nrows = 1,ncols = 1,figsize = (4,4), dpi=300)\n",
        "\n",
        "tree.plot_tree(dc_model,\n",
        "                     feature_names=feature_names,\n",
        "                     filled=True,\n",
        "                     fontsize=1,\n",
        "                     node_ids=True,\n",
        "                     class_names=None)\n",
        "plt.show()\n"
      ],
      "metadata": {
        "colab": {
          "base_uri": "https://localhost:8080/",
          "height": 983
        },
        "id": "m8yFURA2aUBd",
        "outputId": "fe26d688-b740-4e0f-b91f-ca29e0279827"
      },
      "execution_count": null,
      "outputs": [
        {
          "output_type": "display_data",
          "data": {
            "text/plain": [
              "<Figure size 1200x1200 with 1 Axes>"
            ],
            "image/png": "[encoded data removed]"
          },
          "metadata": {
            "needs_background": "light"
          }
        }
      ]
    },
    {
      "cell_type": "markdown",
      "source": [
        "# **Interpetation:**\n",
        "**Accuracy score for Decision tree is 86%**"
      ],
      "metadata": {
        "id": "WWm7T0JwZ-nO"
      }
    },
    {
      "cell_type": "markdown",
      "source": [
        "# **Model 4:Random Forest**"
      ],
      "metadata": {
        "id": "vfVAUHOcbB2S"
      }
    },
    {
      "cell_type": "code",
      "source": [
        "#Creating the model\n",
        "rf_model = RandomForestClassifier(random_state=1)\n",
        "\n",
        "# Grid of parameters to choose from\n",
        "parameters = {'n_estimators': [100, 500],'max_depth': np.arange(1,10)}\n",
        "            "
      ],
      "metadata": {
        "id": "Nxi8bnu5bFYL"
      },
      "execution_count": null,
      "outputs": []
    },
    {
      "cell_type": "code",
      "source": [
        "# Run the grid search\n",
        "grid_obj = GridSearchCV(rf_model, param_grid=parameters,scoring='accuracy', cv=5)\n",
        "grid_obj = grid_obj.fit(X_train, y_train)\n",
        "\n",
        "# Set the clf to the best combination of parameters\n",
        "rf_model = grid_obj.best_estimator_\n",
        "\n",
        "# Fit the best algorithm to the data. \n",
        "rf_model.fit(X_train, y_train)"
      ],
      "metadata": {
        "colab": {
          "base_uri": "https://localhost:8080/",
          "height": 74
        },
        "id": "Ub-3J4y8bWEb",
        "outputId": "9a9de652-1e5c-4d20-b991-31d957e7b84b"
      },
      "execution_count": null,
      "outputs": [
        {
          "output_type": "execute_result",
          "data": {
            "text/plain": [
              "RandomForestClassifier(max_depth=9, random_state=1)"
            ],
            "text/html": [
              "<style>#sk-container-id-3 {color: black;background-color: white;}#sk-container-id-3 pre{padding: 0;}#sk-container-id-3 div.sk-toggleable {background-color: white;}#sk-container-id-3 label.sk-toggleable__label {cursor: pointer;display: block;width: 100%;margin-bottom: 0;padding: 0.3em;box-sizing: border-box;text-align: center;}#sk-container-id-3 label.sk-toggleable__label-arrow:before {content: \"▸\";float: left;margin-right: 0.25em;color: #696969;}#sk-container-id-3 label.sk-toggleable__label-arrow:hover:before {color: black;}#sk-container-id-3 div.sk-estimator:hover label.sk-toggleable__label-arrow:before {color: black;}#sk-container-id-3 div.sk-toggleable__content {max-height: 0;max-width: 0;overflow: hidden;text-align: left;background-color: #f0f8ff;}#sk-container-id-3 div.sk-toggleable__content pre {margin: 0.2em;color: black;border-radius: 0.25em;background-color: #f0f8ff;}#sk-container-id-3 input.sk-toggleable__control:checked~div.sk-toggleable__content {max-height: 200px;max-width: 100%;overflow: auto;}#sk-container-id-3 input.sk-toggleable__control:checked~label.sk-toggleable__label-arrow:before {content: \"▾\";}#sk-container-id-3 div.sk-estimator input.sk-toggleable__control:checked~label.sk-toggleable__label {background-color: #d4ebff;}#sk-container-id-3 div.sk-label input.sk-toggleable__control:checked~label.sk-toggleable__label {background-color: #d4ebff;}#sk-container-id-3 input.sk-hidden--visually {border: 0;clip: rect(1px 1px 1px 1px);clip: rect(1px, 1px, 1px, 1px);height: 1px;margin: -1px;overflow: hidden;padding: 0;position: absolute;width: 1px;}#sk-container-id-3 div.sk-estimator {font-family: monospace;background-color: #f0f8ff;border: 1px dotted black;border-radius: 0.25em;box-sizing: border-box;margin-bottom: 0.5em;}#sk-container-id-3 div.sk-estimator:hover {background-color: #d4ebff;}#sk-container-id-3 div.sk-parallel-item::after {content: \"\";width: 100%;border-bottom: 1px solid gray;flex-grow: 1;}#sk-container-id-3 div.sk-label:hover label.sk-toggleable__label {background-color: #d4ebff;}#sk-container-id-3 div.sk-serial::before {content: \"\";position: absolute;border-left: 1px solid gray;box-sizing: border-box;top: 0;bottom: 0;left: 50%;z-index: 0;}#sk-container-id-3 div.sk-serial {display: flex;flex-direction: column;align-items: center;background-color: white;padding-right: 0.2em;padding-left: 0.2em;position: relative;}#sk-container-id-3 div.sk-item {position: relative;z-index: 1;}#sk-container-id-3 div.sk-parallel {display: flex;align-items: stretch;justify-content: center;background-color: white;position: relative;}#sk-container-id-3 div.sk-item::before, #sk-container-id-3 div.sk-parallel-item::before {content: \"\";position: absolute;border-left: 1px solid gray;box-sizing: border-box;top: 0;bottom: 0;left: 50%;z-index: -1;}#sk-container-id-3 div.sk-parallel-item {display: flex;flex-direction: column;z-index: 1;position: relative;background-color: white;}#sk-container-id-3 div.sk-parallel-item:first-child::after {align-self: flex-end;width: 50%;}#sk-container-id-3 div.sk-parallel-item:last-child::after {align-self: flex-start;width: 50%;}#sk-container-id-3 div.sk-parallel-item:only-child::after {width: 0;}#sk-container-id-3 div.sk-dashed-wrapped {border: 1px dashed gray;margin: 0 0.4em 0.5em 0.4em;box-sizing: border-box;padding-bottom: 0.4em;background-color: white;}#sk-container-id-3 div.sk-label label {font-family: monospace;font-weight: bold;display: inline-block;line-height: 1.2em;}#sk-container-id-3 div.sk-label-container {text-align: center;}#sk-container-id-3 div.sk-container {/* jupyter's `normalize.less` sets `[hidden] { display: none; }` but bootstrap.min.css set `[hidden] { display: none !important; }` so we also need the `!important` here to be able to override the default hidden behavior on the sphinx rendered scikit-learn.org. See: https://github.com/scikit-learn/scikit-learn/issues/21755 */display: inline-block !important;position: relative;}#sk-container-id-3 div.sk-text-repr-fallback {display: none;}</style><div id=\"sk-container-id-3\" class=\"sk-top-container\"><div class=\"sk-text-repr-fallback\"><pre>RandomForestClassifier(max_depth=9, random_state=1)</pre><b>In a Jupyter environment, please rerun this cell to show the HTML representation or trust the notebook. <br />On GitHub, the HTML representation is unable to render, please try loading this page with nbviewer.org.</b></div><div class=\"sk-container\" hidden><div class=\"sk-item\"><div class=\"sk-estimator sk-toggleable\"><input class=\"sk-toggleable__control sk-hidden--visually\" id=\"sk-estimator-id-3\" type=\"checkbox\" checked><label for=\"sk-estimator-id-3\" class=\"sk-toggleable__label sk-toggleable__label-arrow\">RandomForestClassifier</label><div class=\"sk-toggleable__content\"><pre>RandomForestClassifier(max_depth=9, random_state=1)</pre></div></div></div></div></div>"
            ]
          },
          "metadata": {},
          "execution_count": 119
        }
      ]
    },
    {
      "cell_type": "code",
      "source": [
        "#using the train model to predict the outcome of x_test dataset\n",
        "y_pred_train4= rf_model.predict(X_train)\n",
        "y_pred4 = rf_model.predict(X_test)"
      ],
      "metadata": {
        "id": "9Uy5GsWxcMDi"
      },
      "execution_count": null,
      "outputs": []
    },
    {
      "cell_type": "code",
      "source": [
        "#Confusion matrix\n",
        "cm=confusion_matrix(y_test,y_pred4)\n",
        "cm"
      ],
      "metadata": {
        "colab": {
          "base_uri": "https://localhost:8080/"
        },
        "id": "zJ9dW6iEcgPH",
        "outputId": "ca93f5e1-754e-4ec3-f28c-ef51554e6b43"
      },
      "execution_count": null,
      "outputs": [
        {
          "output_type": "execute_result",
          "data": {
            "text/plain": [
              "array([[ 80,  10,   0,   0,   0],\n",
              "       [  5, 102,  13,   0,   0],\n",
              "       [  0,   4, 119,  15,   0],\n",
              "       [  0,   0,   8, 230,   0],\n",
              "       [  0,   0,   0,  12,   2]])"
            ]
          },
          "metadata": {},
          "execution_count": 121
        }
      ]
    },
    {
      "cell_type": "markdown",
      "source": [
        "# **Model Evulation**"
      ],
      "metadata": {
        "id": "LSudD_0Ocncu"
      }
    },
    {
      "cell_type": "code",
      "source": [
        "print(\"Accuracy Score on training set : \", metrics.accuracy_score(y_train, y_pred_train4))\n",
        "print(\"Accuracy Score on test set : \", metrics.accuracy_score(y_test, y_pred4))\n",
        "print(\"-------------------------------------------------------------\")\n",
        "print(\"Recall on training set : \", metrics.recall_score(y_train, y_pred_train4,average='weighted'))\n",
        "print(\"Recall on test set : \", metrics.recall_score(y_test, y_pred4,average='weighted'))\n",
        "\n",
        "print(\"-------------------------------------------------------------\")\n",
        "print(\"F1 Score on training set : \", metrics.f1_score(y_train, y_pred_train4,average='weighted'))\n",
        "print(\"F1 Score on test set : \", metrics.f1_score(y_test, y_pred4,average='weighted'))\n",
        "print(\"-------------------------------------------------------------\")\n",
        "print(\"Precision Score on training set : \", metrics.precision_score(y_train, y_pred_train4,average='weighted'))\n",
        "print(\"Precision Score on test set : \", metrics.precision_score(y_test, y_pred4,average='weighted'))"
      ],
      "metadata": {
        "colab": {
          "base_uri": "https://localhost:8080/"
        },
        "id": "bpWXIMJ4cmzX",
        "outputId": "28462f0a-d40d-4198-cf18-f5f8bdba5bb0"
      },
      "execution_count": null,
      "outputs": [
        {
          "output_type": "stream",
          "name": "stdout",
          "text": [
            "Accuracy Score on training set :  0.9833333333333333\n",
            "Accuracy Score on test set :  0.8883333333333333\n",
            "-------------------------------------------------------------\n",
            "Recall on training set :  0.9833333333333333\n",
            "Recall on test set :  0.8883333333333333\n",
            "-------------------------------------------------------------\n",
            "F1 Score on training set :  0.9828192902138092\n",
            "F1 Score on test set :  0.8813835498480663\n",
            "-------------------------------------------------------------\n",
            "Precision Score on training set :  0.9836380201882498\n",
            "Precision Score on test set :  0.8908653878027798\n"
          ]
        }
      ]
    },
    {
      "cell_type": "markdown",
      "source": [
        "# Interpetation:\n",
        "**Accuracy score for Random Tree Forest is 88%**"
      ],
      "metadata": {
        "id": "V3DWOgIBc5XY"
      }
    },
    {
      "cell_type": "markdown",
      "source": [
        "# **Model 5: KNN**"
      ],
      "metadata": {
        "id": "C-ySEhmwdSIt"
      }
    },
    {
      "cell_type": "code",
      "source": [
        "#Creating the model\n",
        "knn_model = KNeighborsClassifier()\n",
        "k_range = list(range(1, 21))\n",
        "param_grid = dict(n_neighbors=k_range)\n",
        "grid = GridSearchCV(knn_model, param_grid, cv=10, scoring='accuracy', return_train_score=False,verbose=1)\n",
        "grid_search=grid.fit(X_train, y_train)\n"
      ],
      "metadata": {
        "colab": {
          "base_uri": "https://localhost:8080/"
        },
        "id": "iAaxqrO9eRWg",
        "outputId": "d4d1a0fe-0bc7-4298-ce11-e6e80d2ea807"
      },
      "execution_count": null,
      "outputs": [
        {
          "output_type": "stream",
          "name": "stdout",
          "text": [
            "Fitting 10 folds for each of 20 candidates, totalling 200 fits\n"
          ]
        }
      ]
    },
    {
      "cell_type": "code",
      "source": [
        "knn_model = KNeighborsClassifier(n_neighbors=20)\n",
        "# Fit the best algorithm to the data. \n",
        "knn_model.fit(X_train, y_train)"
      ],
      "metadata": {
        "colab": {
          "base_uri": "https://localhost:8080/",
          "height": 74
        },
        "id": "tHrJtC5Gfg6G",
        "outputId": "45f02162-5389-4cc4-ec75-2059d23941d5"
      },
      "execution_count": null,
      "outputs": [
        {
          "output_type": "execute_result",
          "data": {
            "text/plain": [
              "KNeighborsClassifier(n_neighbors=20)"
            ],
            "text/html": [
              "<style>#sk-container-id-4 {color: black;background-color: white;}#sk-container-id-4 pre{padding: 0;}#sk-container-id-4 div.sk-toggleable {background-color: white;}#sk-container-id-4 label.sk-toggleable__label {cursor: pointer;display: block;width: 100%;margin-bottom: 0;padding: 0.3em;box-sizing: border-box;text-align: center;}#sk-container-id-4 label.sk-toggleable__label-arrow:before {content: \"▸\";float: left;margin-right: 0.25em;color: #696969;}#sk-container-id-4 label.sk-toggleable__label-arrow:hover:before {color: black;}#sk-container-id-4 div.sk-estimator:hover label.sk-toggleable__label-arrow:before {color: black;}#sk-container-id-4 div.sk-toggleable__content {max-height: 0;max-width: 0;overflow: hidden;text-align: left;background-color: #f0f8ff;}#sk-container-id-4 div.sk-toggleable__content pre {margin: 0.2em;color: black;border-radius: 0.25em;background-color: #f0f8ff;}#sk-container-id-4 input.sk-toggleable__control:checked~div.sk-toggleable__content {max-height: 200px;max-width: 100%;overflow: auto;}#sk-container-id-4 input.sk-toggleable__control:checked~label.sk-toggleable__label-arrow:before {content: \"▾\";}#sk-container-id-4 div.sk-estimator input.sk-toggleable__control:checked~label.sk-toggleable__label {background-color: #d4ebff;}#sk-container-id-4 div.sk-label input.sk-toggleable__control:checked~label.sk-toggleable__label {background-color: #d4ebff;}#sk-container-id-4 input.sk-hidden--visually {border: 0;clip: rect(1px 1px 1px 1px);clip: rect(1px, 1px, 1px, 1px);height: 1px;margin: -1px;overflow: hidden;padding: 0;position: absolute;width: 1px;}#sk-container-id-4 div.sk-estimator {font-family: monospace;background-color: #f0f8ff;border: 1px dotted black;border-radius: 0.25em;box-sizing: border-box;margin-bottom: 0.5em;}#sk-container-id-4 div.sk-estimator:hover {background-color: #d4ebff;}#sk-container-id-4 div.sk-parallel-item::after {content: \"\";width: 100%;border-bottom: 1px solid gray;flex-grow: 1;}#sk-container-id-4 div.sk-label:hover label.sk-toggleable__label {background-color: #d4ebff;}#sk-container-id-4 div.sk-serial::before {content: \"\";position: absolute;border-left: 1px solid gray;box-sizing: border-box;top: 0;bottom: 0;left: 50%;z-index: 0;}#sk-container-id-4 div.sk-serial {display: flex;flex-direction: column;align-items: center;background-color: white;padding-right: 0.2em;padding-left: 0.2em;position: relative;}#sk-container-id-4 div.sk-item {position: relative;z-index: 1;}#sk-container-id-4 div.sk-parallel {display: flex;align-items: stretch;justify-content: center;background-color: white;position: relative;}#sk-container-id-4 div.sk-item::before, #sk-container-id-4 div.sk-parallel-item::before {content: \"\";position: absolute;border-left: 1px solid gray;box-sizing: border-box;top: 0;bottom: 0;left: 50%;z-index: -1;}#sk-container-id-4 div.sk-parallel-item {display: flex;flex-direction: column;z-index: 1;position: relative;background-color: white;}#sk-container-id-4 div.sk-parallel-item:first-child::after {align-self: flex-end;width: 50%;}#sk-container-id-4 div.sk-parallel-item:last-child::after {align-self: flex-start;width: 50%;}#sk-container-id-4 div.sk-parallel-item:only-child::after {width: 0;}#sk-container-id-4 div.sk-dashed-wrapped {border: 1px dashed gray;margin: 0 0.4em 0.5em 0.4em;box-sizing: border-box;padding-bottom: 0.4em;background-color: white;}#sk-container-id-4 div.sk-label label {font-family: monospace;font-weight: bold;display: inline-block;line-height: 1.2em;}#sk-container-id-4 div.sk-label-container {text-align: center;}#sk-container-id-4 div.sk-container {/* jupyter's `normalize.less` sets `[hidden] { display: none; }` but bootstrap.min.css set `[hidden] { display: none !important; }` so we also need the `!important` here to be able to override the default hidden behavior on the sphinx rendered scikit-learn.org. See: https://github.com/scikit-learn/scikit-learn/issues/21755 */display: inline-block !important;position: relative;}#sk-container-id-4 div.sk-text-repr-fallback {display: none;}</style><div id=\"sk-container-id-4\" class=\"sk-top-container\"><div class=\"sk-text-repr-fallback\"><pre>KNeighborsClassifier(n_neighbors=20)</pre><b>In a Jupyter environment, please rerun this cell to show the HTML representation or trust the notebook. <br />On GitHub, the HTML representation is unable to render, please try loading this page with nbviewer.org.</b></div><div class=\"sk-container\" hidden><div class=\"sk-item\"><div class=\"sk-estimator sk-toggleable\"><input class=\"sk-toggleable__control sk-hidden--visually\" id=\"sk-estimator-id-4\" type=\"checkbox\" checked><label for=\"sk-estimator-id-4\" class=\"sk-toggleable__label sk-toggleable__label-arrow\">KNeighborsClassifier</label><div class=\"sk-toggleable__content\"><pre>KNeighborsClassifier(n_neighbors=20)</pre></div></div></div></div></div>"
            ]
          },
          "metadata": {},
          "execution_count": 124
        }
      ]
    },
    {
      "cell_type": "code",
      "source": [
        "#using the train model to predict the outcome of x_test dataset\n",
        "y_pred_train5= knn_model.predict(X_train)\n",
        "y_pred5 = knn_model.predict(X_test)"
      ],
      "metadata": {
        "id": "Wl3Uc5pIgi8c"
      },
      "execution_count": null,
      "outputs": []
    },
    {
      "cell_type": "code",
      "source": [
        "#Confusion matrix\n",
        "cm=confusion_matrix(y_test,y_pred5)\n",
        "cm"
      ],
      "metadata": {
        "colab": {
          "base_uri": "https://localhost:8080/"
        },
        "id": "kwgVbVJ5g2gg",
        "outputId": "dfa378fe-d926-4b7e-ae77-0ddd90fce684"
      },
      "execution_count": null,
      "outputs": [
        {
          "output_type": "execute_result",
          "data": {
            "text/plain": [
              "array([[ 81,   9,   0,   0,   0],\n",
              "       [  9, 102,   9,   0,   0],\n",
              "       [  0,   7, 118,  13,   0],\n",
              "       [  0,   0,   7, 230,   1],\n",
              "       [  0,   0,   0,   6,   8]])"
            ]
          },
          "metadata": {},
          "execution_count": 126
        }
      ]
    },
    {
      "cell_type": "markdown",
      "source": [
        "# **Model Evulation**\n",
        "\n"
      ],
      "metadata": {
        "id": "yWnJTgf5g9gT"
      }
    },
    {
      "cell_type": "code",
      "source": [
        "print(\"Accuracy Score on training set : \", metrics.accuracy_score(y_train, y_pred_train5))\n",
        "print(\"Accuracy Score on test set : \", metrics.accuracy_score(y_test, y_pred5))\n",
        "print(\"-------------------------------------------------------------\")\n",
        "print(\"Recall on training set : \", metrics.recall_score(y_train, y_pred_train5,average='weighted'))\n",
        "print(\"Recall on test set : \", metrics.recall_score(y_test, y_pred5,average='weighted'))\n",
        "\n",
        "print(\"-------------------------------------------------------------\")\n",
        "print(\"F1 Score on training set : \", metrics.f1_score(y_train, y_pred_train5,average='weighted'))\n",
        "print(\"F1 Score on test set : \", metrics.f1_score(y_test, y_pred5,average='weighted'))\n",
        "print(\"-------------------------------------------------------------\")\n",
        "print(\"Precision Score on training set : \", metrics.precision_score(y_train, y_pred_train5,average='weighted'))\n",
        "print(\"Precision Score on test set : \", metrics.precision_score(y_test, y_pred5,average='weighted'))"
      ],
      "metadata": {
        "colab": {
          "base_uri": "https://localhost:8080/"
        },
        "id": "8A9iWTQtg8_m",
        "outputId": "2d26e33e-1b59-42ab-af5a-89c6296d7c42"
      },
      "execution_count": null,
      "outputs": [
        {
          "output_type": "stream",
          "name": "stdout",
          "text": [
            "Accuracy Score on training set :  0.9041666666666667\n",
            "Accuracy Score on test set :  0.8983333333333333\n",
            "-------------------------------------------------------------\n",
            "Recall on training set :  0.9041666666666667\n",
            "Recall on test set :  0.8983333333333333\n",
            "-------------------------------------------------------------\n",
            "F1 Score on training set :  0.9012434637694184\n",
            "F1 Score on test set :  0.8968941592349825\n",
            "-------------------------------------------------------------\n",
            "Precision Score on training set :  0.9044965206076785\n",
            "Precision Score on test set :  0.8975583391553115\n"
          ]
        }
      ]
    },
    {
      "cell_type": "markdown",
      "source": [
        "\n",
        "**Accuracy score for KNN model is 89%**"
      ],
      "metadata": {
        "id": "stj3k5ichZ5k"
      }
    },
    {
      "cell_type": "markdown",
      "source": [
        "# Interpetation\n",
        "**Calculated all the models accuracy score and comparing all the models accuracy score the logistic regression model has high value it is about 96%**"
      ],
      "metadata": {
        "id": "0xq36flnNLC3"
      }
    }
  ]
}